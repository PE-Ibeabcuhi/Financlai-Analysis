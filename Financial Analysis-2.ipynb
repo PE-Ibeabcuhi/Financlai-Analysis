{
 "cells": [
  {
   "cell_type": "markdown",
   "id": "b8a8e09a",
   "metadata": {},
   "source": [
    "# Financial statement analysis:\n",
    "\n",
    "This project analysis Googles finacial statement from the year 2018 to 2021. The API for this project is gotten from the [FinancialModelingprep.com](https://site.financialmodelingprep.com).\n",
    "\n",
    "For the Income statement, we would be looking at important metrics like:\n",
    "* Revenue Growth \n",
    "* Gross profit margin\n",
    "* Net income growth\n",
    "* Net income margin\n",
    "* Return on equity (ROE)\n",
    "* Asset Turnover\n",
    "\n",
    "For the Balance sheet, we would be looking at:\n",
    "* Working capital analysis\n",
    "* Working current ratio\n",
    "* Current ratio\n",
    "* Quick Ratio\n",
    "* Debt to Equity Ratio\n",
    "\n",
    "**DISCLAIMER**: This is not investing advice. I am not a professional who is qualified in giving any financial advice. This is purely about programming using financial data."
   ]
  },
  {
   "cell_type": "code",
   "execution_count": null,
   "id": "71ba141e",
   "metadata": {},
   "outputs": [],
   "source": [
    "# Installing the Python request package that would allow us make request to the API\n",
    "pip install requests"
   ]
  },
  {
   "cell_type": "code",
   "execution_count": 178,
   "id": "06b5d57f",
   "metadata": {},
   "outputs": [],
   "source": [
    "# Importing all necessary libraries for the analysis\n",
    "\n",
    "import pandas as pd\n",
    "import requests\n",
    "import matplotlib.pyplot as plt\n",
    "import plotly.express as px\n",
    "import Config\n",
    "import json\n",
    "\n",
    "# Hiding warnings\n",
    "import warnings\n",
    "warnings.simplefilter('ignore')"
   ]
  },
  {
   "cell_type": "markdown",
   "id": "8236eaf8",
   "metadata": {},
   "source": [
    "### Getting the data "
   ]
  },
  {
   "cell_type": "code",
   "execution_count": 167,
   "id": "a6248ace",
   "metadata": {
    "scrolled": true
   },
   "outputs": [],
   "source": [
    "# Hiding our API key in a text file for security reasons.\n",
    "api_key= 'ed4bdde73a3763179e48f17205de9246'\n",
    "\n",
    "\n",
    "# Specifying the company we would be analysing and the number of years. Set this way so that we can easily swicth to other companies\n",
    "company = 'GOOGL'\n",
    "years = 4\n",
    "\n",
    "# Requesting for the income statement data from the API\n",
    "IS_copy = requests.get(f'https://financialmodelingprep.com/api/v3/income-statement/{company}?limit={years}&apikey={api_key}')\n",
    "\n",
    "# Requesting for the balance statement data from the API\n",
    "BS_copy = requests.get(f'https://financialmodelingprep.com/api/v3/balance-sheet-statement/{company}?apikey={api_key}&limit={years}')\n",
    "\n",
    "# Storing our data in a Dataframe\n",
    "IS_copy= pd.DataFrame(IS_copy.json())\n",
    "BS_copy=pd.DataFrame(BS_copy.json())\n"
   ]
  },
  {
   "cell_type": "markdown",
   "id": "b6e6a87f",
   "metadata": {},
   "source": [
    "### Income statement analysis\n",
    "* Revenue Growth\n",
    "* Gross profit margin\n",
    "* Net income growth\n",
    "* Net income margin\n",
    "* Return on equity (ROE)\n",
    "* Asset Turnover"
   ]
  },
  {
   "cell_type": "code",
   "execution_count": 168,
   "id": "050a8460",
   "metadata": {},
   "outputs": [
    {
     "data": {
      "text/html": [
       "<div>\n",
       "<style scoped>\n",
       "    .dataframe tbody tr th:only-of-type {\n",
       "        vertical-align: middle;\n",
       "    }\n",
       "\n",
       "    .dataframe tbody tr th {\n",
       "        vertical-align: top;\n",
       "    }\n",
       "\n",
       "    .dataframe thead th {\n",
       "        text-align: right;\n",
       "    }\n",
       "</style>\n",
       "<table border=\"1\" class=\"dataframe\">\n",
       "  <thead>\n",
       "    <tr style=\"text-align: right;\">\n",
       "      <th></th>\n",
       "      <th>date</th>\n",
       "      <th>symbol</th>\n",
       "      <th>reportedCurrency</th>\n",
       "      <th>cik</th>\n",
       "      <th>fillingDate</th>\n",
       "      <th>acceptedDate</th>\n",
       "      <th>calendarYear</th>\n",
       "      <th>period</th>\n",
       "      <th>revenue</th>\n",
       "      <th>costOfRevenue</th>\n",
       "      <th>...</th>\n",
       "      <th>incomeBeforeTaxRatio</th>\n",
       "      <th>incomeTaxExpense</th>\n",
       "      <th>netIncome</th>\n",
       "      <th>netIncomeRatio</th>\n",
       "      <th>eps</th>\n",
       "      <th>epsdiluted</th>\n",
       "      <th>weightedAverageShsOut</th>\n",
       "      <th>weightedAverageShsOutDil</th>\n",
       "      <th>link</th>\n",
       "      <th>finalLink</th>\n",
       "    </tr>\n",
       "  </thead>\n",
       "  <tbody>\n",
       "    <tr>\n",
       "      <th>0</th>\n",
       "      <td>2022-12-31</td>\n",
       "      <td>GOOGL</td>\n",
       "      <td>USD</td>\n",
       "      <td>0001652044</td>\n",
       "      <td>2023-02-03</td>\n",
       "      <td>2023-02-02 21:23:45</td>\n",
       "      <td>2022</td>\n",
       "      <td>FY</td>\n",
       "      <td>282836000000</td>\n",
       "      <td>126203000000</td>\n",
       "      <td>...</td>\n",
       "      <td>0.252189</td>\n",
       "      <td>11356000000</td>\n",
       "      <td>59972000000</td>\n",
       "      <td>0.212038</td>\n",
       "      <td>4.490000</td>\n",
       "      <td>4.420000</td>\n",
       "      <td>13352993991</td>\n",
       "      <td>13553473900</td>\n",
       "      <td>https://www.sec.gov/Archives/edgar/data/165204...</td>\n",
       "      <td>https://www.sec.gov/Archives/edgar/data/165204...</td>\n",
       "    </tr>\n",
       "    <tr>\n",
       "      <th>1</th>\n",
       "      <td>2021-12-31</td>\n",
       "      <td>GOOGL</td>\n",
       "      <td>USD</td>\n",
       "      <td>0001652044</td>\n",
       "      <td>2022-02-02</td>\n",
       "      <td>2022-02-01 21:08:02</td>\n",
       "      <td>2021</td>\n",
       "      <td>FY</td>\n",
       "      <td>257637000000</td>\n",
       "      <td>110939000000</td>\n",
       "      <td>...</td>\n",
       "      <td>0.352178</td>\n",
       "      <td>14701000000</td>\n",
       "      <td>76033000000</td>\n",
       "      <td>0.295117</td>\n",
       "      <td>5.694003</td>\n",
       "      <td>5.610003</td>\n",
       "      <td>13352993991</td>\n",
       "      <td>13553473900</td>\n",
       "      <td>https://www.sec.gov/Archives/edgar/data/165204...</td>\n",
       "      <td>https://www.sec.gov/Archives/edgar/data/165204...</td>\n",
       "    </tr>\n",
       "    <tr>\n",
       "      <th>2</th>\n",
       "      <td>2020-12-31</td>\n",
       "      <td>GOOGL</td>\n",
       "      <td>USD</td>\n",
       "      <td>0001652044</td>\n",
       "      <td>2021-02-03</td>\n",
       "      <td>2021-02-02 20:12:25</td>\n",
       "      <td>2020</td>\n",
       "      <td>FY</td>\n",
       "      <td>182527000000</td>\n",
       "      <td>84732000000</td>\n",
       "      <td>...</td>\n",
       "      <td>0.263424</td>\n",
       "      <td>7813000000</td>\n",
       "      <td>40269000000</td>\n",
       "      <td>0.220619</td>\n",
       "      <td>2.957501</td>\n",
       "      <td>2.930501</td>\n",
       "      <td>13616313872</td>\n",
       "      <td>13740553816</td>\n",
       "      <td>https://www.sec.gov/Archives/edgar/data/165204...</td>\n",
       "      <td>https://www.sec.gov/Archives/edgar/data/165204...</td>\n",
       "    </tr>\n",
       "    <tr>\n",
       "      <th>3</th>\n",
       "      <td>2019-12-31</td>\n",
       "      <td>GOOGL</td>\n",
       "      <td>USD</td>\n",
       "      <td>0001652044</td>\n",
       "      <td>2020-02-04</td>\n",
       "      <td>2020-02-03 21:03:59</td>\n",
       "      <td>2019</td>\n",
       "      <td>FY</td>\n",
       "      <td>161857000000</td>\n",
       "      <td>71896000000</td>\n",
       "      <td>...</td>\n",
       "      <td>0.244815</td>\n",
       "      <td>5282000000</td>\n",
       "      <td>34343000000</td>\n",
       "      <td>0.212181</td>\n",
       "      <td>2.479501</td>\n",
       "      <td>2.458001</td>\n",
       "      <td>13851914459</td>\n",
       "      <td>13971114411</td>\n",
       "      <td>https://www.sec.gov/Archives/edgar/data/165204...</td>\n",
       "      <td>https://www.sec.gov/Archives/edgar/data/165204...</td>\n",
       "    </tr>\n",
       "  </tbody>\n",
       "</table>\n",
       "<p>4 rows × 38 columns</p>\n",
       "</div>"
      ],
      "text/plain": [
       "         date symbol reportedCurrency         cik fillingDate  \\\n",
       "0  2022-12-31  GOOGL              USD  0001652044  2023-02-03   \n",
       "1  2021-12-31  GOOGL              USD  0001652044  2022-02-02   \n",
       "2  2020-12-31  GOOGL              USD  0001652044  2021-02-03   \n",
       "3  2019-12-31  GOOGL              USD  0001652044  2020-02-04   \n",
       "\n",
       "          acceptedDate calendarYear period       revenue  costOfRevenue  ...  \\\n",
       "0  2023-02-02 21:23:45         2022     FY  282836000000   126203000000  ...   \n",
       "1  2022-02-01 21:08:02         2021     FY  257637000000   110939000000  ...   \n",
       "2  2021-02-02 20:12:25         2020     FY  182527000000    84732000000  ...   \n",
       "3  2020-02-03 21:03:59         2019     FY  161857000000    71896000000  ...   \n",
       "\n",
       "   incomeBeforeTaxRatio  incomeTaxExpense    netIncome  netIncomeRatio  \\\n",
       "0              0.252189       11356000000  59972000000        0.212038   \n",
       "1              0.352178       14701000000  76033000000        0.295117   \n",
       "2              0.263424        7813000000  40269000000        0.220619   \n",
       "3              0.244815        5282000000  34343000000        0.212181   \n",
       "\n",
       "        eps  epsdiluted  weightedAverageShsOut  weightedAverageShsOutDil  \\\n",
       "0  4.490000    4.420000            13352993991               13553473900   \n",
       "1  5.694003    5.610003            13352993991               13553473900   \n",
       "2  2.957501    2.930501            13616313872               13740553816   \n",
       "3  2.479501    2.458001            13851914459               13971114411   \n",
       "\n",
       "                                                link  \\\n",
       "0  https://www.sec.gov/Archives/edgar/data/165204...   \n",
       "1  https://www.sec.gov/Archives/edgar/data/165204...   \n",
       "2  https://www.sec.gov/Archives/edgar/data/165204...   \n",
       "3  https://www.sec.gov/Archives/edgar/data/165204...   \n",
       "\n",
       "                                           finalLink  \n",
       "0  https://www.sec.gov/Archives/edgar/data/165204...  \n",
       "1  https://www.sec.gov/Archives/edgar/data/165204...  \n",
       "2  https://www.sec.gov/Archives/edgar/data/165204...  \n",
       "3  https://www.sec.gov/Archives/edgar/data/165204...  \n",
       "\n",
       "[4 rows x 38 columns]"
      ]
     },
     "execution_count": 168,
     "metadata": {},
     "output_type": "execute_result"
    }
   ],
   "source": [
    "# Displaying the data\n",
    "IS_copy"
   ]
  },
  {
   "cell_type": "code",
   "execution_count": 169,
   "id": "e700a96a",
   "metadata": {},
   "outputs": [
    {
     "data": {
      "text/html": [
       "<div>\n",
       "<style scoped>\n",
       "    .dataframe tbody tr th:only-of-type {\n",
       "        vertical-align: middle;\n",
       "    }\n",
       "\n",
       "    .dataframe tbody tr th {\n",
       "        vertical-align: top;\n",
       "    }\n",
       "\n",
       "    .dataframe thead th {\n",
       "        text-align: right;\n",
       "    }\n",
       "</style>\n",
       "<table border=\"1\" class=\"dataframe\">\n",
       "  <thead>\n",
       "    <tr style=\"text-align: right;\">\n",
       "      <th></th>\n",
       "      <th>date</th>\n",
       "      <th>revenue</th>\n",
       "      <th>costOfRevenue</th>\n",
       "      <th>grossProfit</th>\n",
       "      <th>grossProfitRatio</th>\n",
       "      <th>researchAndDevelopmentExpenses</th>\n",
       "      <th>generalAndAdministrativeExpenses</th>\n",
       "      <th>sellingAndMarketingExpenses</th>\n",
       "      <th>sellingGeneralAndAdministrativeExpenses</th>\n",
       "      <th>otherExpenses</th>\n",
       "      <th>...</th>\n",
       "      <th>totalOtherIncomeExpensesNet</th>\n",
       "      <th>incomeBeforeTax</th>\n",
       "      <th>incomeBeforeTaxRatio</th>\n",
       "      <th>incomeTaxExpense</th>\n",
       "      <th>netIncome</th>\n",
       "      <th>netIncomeRatio</th>\n",
       "      <th>eps</th>\n",
       "      <th>epsdiluted</th>\n",
       "      <th>weightedAverageShsOut</th>\n",
       "      <th>weightedAverageShsOutDil</th>\n",
       "    </tr>\n",
       "  </thead>\n",
       "  <tbody>\n",
       "    <tr>\n",
       "      <th>0</th>\n",
       "      <td>2022-12-31</td>\n",
       "      <td>282836000000</td>\n",
       "      <td>126203000000</td>\n",
       "      <td>156633000000</td>\n",
       "      <td>0.553794</td>\n",
       "      <td>39500000000</td>\n",
       "      <td>15724000000</td>\n",
       "      <td>26567000000</td>\n",
       "      <td>42291000000</td>\n",
       "      <td>0</td>\n",
       "      <td>...</td>\n",
       "      <td>-3514000000</td>\n",
       "      <td>71328000000</td>\n",
       "      <td>0.252189</td>\n",
       "      <td>11356000000</td>\n",
       "      <td>59972000000</td>\n",
       "      <td>0.212038</td>\n",
       "      <td>4.490000</td>\n",
       "      <td>4.420000</td>\n",
       "      <td>13352993991</td>\n",
       "      <td>13553473900</td>\n",
       "    </tr>\n",
       "    <tr>\n",
       "      <th>1</th>\n",
       "      <td>2021-12-31</td>\n",
       "      <td>257637000000</td>\n",
       "      <td>110939000000</td>\n",
       "      <td>146698000000</td>\n",
       "      <td>0.569398</td>\n",
       "      <td>31562000000</td>\n",
       "      <td>13510000000</td>\n",
       "      <td>22912000000</td>\n",
       "      <td>36422000000</td>\n",
       "      <td>0</td>\n",
       "      <td>...</td>\n",
       "      <td>12020000000</td>\n",
       "      <td>90734000000</td>\n",
       "      <td>0.352178</td>\n",
       "      <td>14701000000</td>\n",
       "      <td>76033000000</td>\n",
       "      <td>0.295117</td>\n",
       "      <td>5.694003</td>\n",
       "      <td>5.610003</td>\n",
       "      <td>13352993991</td>\n",
       "      <td>13553473900</td>\n",
       "    </tr>\n",
       "    <tr>\n",
       "      <th>2</th>\n",
       "      <td>2020-12-31</td>\n",
       "      <td>182527000000</td>\n",
       "      <td>84732000000</td>\n",
       "      <td>97795000000</td>\n",
       "      <td>0.535784</td>\n",
       "      <td>27573000000</td>\n",
       "      <td>11052000000</td>\n",
       "      <td>17946000000</td>\n",
       "      <td>28998000000</td>\n",
       "      <td>0</td>\n",
       "      <td>...</td>\n",
       "      <td>6858000000</td>\n",
       "      <td>48082000000</td>\n",
       "      <td>0.263424</td>\n",
       "      <td>7813000000</td>\n",
       "      <td>40269000000</td>\n",
       "      <td>0.220619</td>\n",
       "      <td>2.957501</td>\n",
       "      <td>2.930501</td>\n",
       "      <td>13616313872</td>\n",
       "      <td>13740553816</td>\n",
       "    </tr>\n",
       "    <tr>\n",
       "      <th>3</th>\n",
       "      <td>2019-12-31</td>\n",
       "      <td>161857000000</td>\n",
       "      <td>71896000000</td>\n",
       "      <td>89961000000</td>\n",
       "      <td>0.555805</td>\n",
       "      <td>26018000000</td>\n",
       "      <td>9551000000</td>\n",
       "      <td>18464000000</td>\n",
       "      <td>28015000000</td>\n",
       "      <td>0</td>\n",
       "      <td>...</td>\n",
       "      <td>5394000000</td>\n",
       "      <td>39625000000</td>\n",
       "      <td>0.244815</td>\n",
       "      <td>5282000000</td>\n",
       "      <td>34343000000</td>\n",
       "      <td>0.212181</td>\n",
       "      <td>2.479501</td>\n",
       "      <td>2.458001</td>\n",
       "      <td>13851914459</td>\n",
       "      <td>13971114411</td>\n",
       "    </tr>\n",
       "  </tbody>\n",
       "</table>\n",
       "<p>4 rows × 29 columns</p>\n",
       "</div>"
      ],
      "text/plain": [
       "         date       revenue  costOfRevenue   grossProfit  grossProfitRatio  \\\n",
       "0  2022-12-31  282836000000   126203000000  156633000000          0.553794   \n",
       "1  2021-12-31  257637000000   110939000000  146698000000          0.569398   \n",
       "2  2020-12-31  182527000000    84732000000   97795000000          0.535784   \n",
       "3  2019-12-31  161857000000    71896000000   89961000000          0.555805   \n",
       "\n",
       "   researchAndDevelopmentExpenses  generalAndAdministrativeExpenses  \\\n",
       "0                     39500000000                       15724000000   \n",
       "1                     31562000000                       13510000000   \n",
       "2                     27573000000                       11052000000   \n",
       "3                     26018000000                        9551000000   \n",
       "\n",
       "   sellingAndMarketingExpenses  sellingGeneralAndAdministrativeExpenses  \\\n",
       "0                  26567000000                              42291000000   \n",
       "1                  22912000000                              36422000000   \n",
       "2                  17946000000                              28998000000   \n",
       "3                  18464000000                              28015000000   \n",
       "\n",
       "   otherExpenses  ...  totalOtherIncomeExpensesNet  incomeBeforeTax  \\\n",
       "0              0  ...                  -3514000000      71328000000   \n",
       "1              0  ...                  12020000000      90734000000   \n",
       "2              0  ...                   6858000000      48082000000   \n",
       "3              0  ...                   5394000000      39625000000   \n",
       "\n",
       "   incomeBeforeTaxRatio  incomeTaxExpense    netIncome  netIncomeRatio  \\\n",
       "0              0.252189       11356000000  59972000000        0.212038   \n",
       "1              0.352178       14701000000  76033000000        0.295117   \n",
       "2              0.263424        7813000000  40269000000        0.220619   \n",
       "3              0.244815        5282000000  34343000000        0.212181   \n",
       "\n",
       "        eps  epsdiluted  weightedAverageShsOut  weightedAverageShsOutDil  \n",
       "0  4.490000    4.420000            13352993991               13553473900  \n",
       "1  5.694003    5.610003            13352993991               13553473900  \n",
       "2  2.957501    2.930501            13616313872               13740553816  \n",
       "3  2.479501    2.458001            13851914459               13971114411  \n",
       "\n",
       "[4 rows x 29 columns]"
      ]
     },
     "execution_count": 169,
     "metadata": {},
     "output_type": "execute_result"
    }
   ],
   "source": [
    "# Removing some columns that are not useful for our project\n",
    "\n",
    "IS_copy.drop(['symbol', 'reportedCurrency', 'cik', 'fillingDate', \n",
    "                       'acceptedDate', 'calendarYear', 'period', 'link', 'finalLink'], axis=1, inplace=True)\n",
    "IS_copy"
   ]
  },
  {
   "cell_type": "code",
   "execution_count": 118,
   "id": "b36cf4cd",
   "metadata": {
    "scrolled": false
   },
   "outputs": [
    {
     "data": {
      "text/html": [
       "<div>\n",
       "<style scoped>\n",
       "    .dataframe tbody tr th:only-of-type {\n",
       "        vertical-align: middle;\n",
       "    }\n",
       "\n",
       "    .dataframe tbody tr th {\n",
       "        vertical-align: top;\n",
       "    }\n",
       "\n",
       "    .dataframe thead th {\n",
       "        text-align: right;\n",
       "    }\n",
       "</style>\n",
       "<table border=\"1\" class=\"dataframe\">\n",
       "  <thead>\n",
       "    <tr style=\"text-align: right;\">\n",
       "      <th></th>\n",
       "      <th>0</th>\n",
       "      <th>1</th>\n",
       "      <th>2</th>\n",
       "      <th>3</th>\n",
       "    </tr>\n",
       "  </thead>\n",
       "  <tbody>\n",
       "    <tr>\n",
       "      <th>date</th>\n",
       "      <td>2022-12-31</td>\n",
       "      <td>2021-12-31</td>\n",
       "      <td>2020-12-31</td>\n",
       "      <td>2019-12-31</td>\n",
       "    </tr>\n",
       "    <tr>\n",
       "      <th>revenue</th>\n",
       "      <td>282836000000</td>\n",
       "      <td>257637000000</td>\n",
       "      <td>182527000000</td>\n",
       "      <td>161857000000</td>\n",
       "    </tr>\n",
       "    <tr>\n",
       "      <th>costOfRevenue</th>\n",
       "      <td>126203000000</td>\n",
       "      <td>110939000000</td>\n",
       "      <td>84732000000</td>\n",
       "      <td>71896000000</td>\n",
       "    </tr>\n",
       "    <tr>\n",
       "      <th>grossProfit</th>\n",
       "      <td>156633000000</td>\n",
       "      <td>146698000000</td>\n",
       "      <td>97795000000</td>\n",
       "      <td>89961000000</td>\n",
       "    </tr>\n",
       "    <tr>\n",
       "      <th>grossProfitRatio</th>\n",
       "      <td>0.553794</td>\n",
       "      <td>0.569398</td>\n",
       "      <td>0.535784</td>\n",
       "      <td>0.555805</td>\n",
       "    </tr>\n",
       "    <tr>\n",
       "      <th>researchAndDevelopmentExpenses</th>\n",
       "      <td>39500000000</td>\n",
       "      <td>31562000000</td>\n",
       "      <td>27573000000</td>\n",
       "      <td>26018000000</td>\n",
       "    </tr>\n",
       "    <tr>\n",
       "      <th>generalAndAdministrativeExpenses</th>\n",
       "      <td>15724000000</td>\n",
       "      <td>13510000000</td>\n",
       "      <td>11052000000</td>\n",
       "      <td>9551000000</td>\n",
       "    </tr>\n",
       "    <tr>\n",
       "      <th>sellingAndMarketingExpenses</th>\n",
       "      <td>26567000000</td>\n",
       "      <td>22912000000</td>\n",
       "      <td>17946000000</td>\n",
       "      <td>18464000000</td>\n",
       "    </tr>\n",
       "    <tr>\n",
       "      <th>sellingGeneralAndAdministrativeExpenses</th>\n",
       "      <td>42291000000</td>\n",
       "      <td>36422000000</td>\n",
       "      <td>28998000000</td>\n",
       "      <td>28015000000</td>\n",
       "    </tr>\n",
       "    <tr>\n",
       "      <th>otherExpenses</th>\n",
       "      <td>0</td>\n",
       "      <td>0</td>\n",
       "      <td>0</td>\n",
       "      <td>0</td>\n",
       "    </tr>\n",
       "    <tr>\n",
       "      <th>operatingExpenses</th>\n",
       "      <td>81791000000</td>\n",
       "      <td>67984000000</td>\n",
       "      <td>56571000000</td>\n",
       "      <td>54033000000</td>\n",
       "    </tr>\n",
       "    <tr>\n",
       "      <th>costAndExpenses</th>\n",
       "      <td>207994000000</td>\n",
       "      <td>178923000000</td>\n",
       "      <td>141303000000</td>\n",
       "      <td>125929000000</td>\n",
       "    </tr>\n",
       "    <tr>\n",
       "      <th>interestIncome</th>\n",
       "      <td>0</td>\n",
       "      <td>1499000000</td>\n",
       "      <td>1865000000</td>\n",
       "      <td>2427000000</td>\n",
       "    </tr>\n",
       "    <tr>\n",
       "      <th>interestExpense</th>\n",
       "      <td>0</td>\n",
       "      <td>346000000</td>\n",
       "      <td>135000000</td>\n",
       "      <td>100000000</td>\n",
       "    </tr>\n",
       "    <tr>\n",
       "      <th>depreciationAndAmortization</th>\n",
       "      <td>15928000000</td>\n",
       "      <td>12441000000</td>\n",
       "      <td>13697000000</td>\n",
       "      <td>11781000000</td>\n",
       "    </tr>\n",
       "    <tr>\n",
       "      <th>ebitda</th>\n",
       "      <td>87256000000</td>\n",
       "      <td>103521000000</td>\n",
       "      <td>61914000000</td>\n",
       "      <td>51506000000</td>\n",
       "    </tr>\n",
       "    <tr>\n",
       "      <th>ebitdaratio</th>\n",
       "      <td>0.308504</td>\n",
       "      <td>0.40181</td>\n",
       "      <td>0.339205</td>\n",
       "      <td>0.318219</td>\n",
       "    </tr>\n",
       "    <tr>\n",
       "      <th>operatingIncome</th>\n",
       "      <td>74842000000</td>\n",
       "      <td>78714000000</td>\n",
       "      <td>41224000000</td>\n",
       "      <td>34231000000</td>\n",
       "    </tr>\n",
       "    <tr>\n",
       "      <th>operatingIncomeRatio</th>\n",
       "      <td>0.264613</td>\n",
       "      <td>0.305523</td>\n",
       "      <td>0.225852</td>\n",
       "      <td>0.211489</td>\n",
       "    </tr>\n",
       "    <tr>\n",
       "      <th>totalOtherIncomeExpensesNet</th>\n",
       "      <td>-3514000000</td>\n",
       "      <td>12020000000</td>\n",
       "      <td>6858000000</td>\n",
       "      <td>5394000000</td>\n",
       "    </tr>\n",
       "    <tr>\n",
       "      <th>incomeBeforeTax</th>\n",
       "      <td>71328000000</td>\n",
       "      <td>90734000000</td>\n",
       "      <td>48082000000</td>\n",
       "      <td>39625000000</td>\n",
       "    </tr>\n",
       "    <tr>\n",
       "      <th>incomeBeforeTaxRatio</th>\n",
       "      <td>0.252189</td>\n",
       "      <td>0.352178</td>\n",
       "      <td>0.263424</td>\n",
       "      <td>0.244815</td>\n",
       "    </tr>\n",
       "    <tr>\n",
       "      <th>incomeTaxExpense</th>\n",
       "      <td>11356000000</td>\n",
       "      <td>14701000000</td>\n",
       "      <td>7813000000</td>\n",
       "      <td>5282000000</td>\n",
       "    </tr>\n",
       "    <tr>\n",
       "      <th>netIncome</th>\n",
       "      <td>59972000000</td>\n",
       "      <td>76033000000</td>\n",
       "      <td>40269000000</td>\n",
       "      <td>34343000000</td>\n",
       "    </tr>\n",
       "    <tr>\n",
       "      <th>netIncomeRatio</th>\n",
       "      <td>0.212038</td>\n",
       "      <td>0.295117</td>\n",
       "      <td>0.220619</td>\n",
       "      <td>0.212181</td>\n",
       "    </tr>\n",
       "    <tr>\n",
       "      <th>eps</th>\n",
       "      <td>4.49</td>\n",
       "      <td>5.694003</td>\n",
       "      <td>2.957501</td>\n",
       "      <td>2.479501</td>\n",
       "    </tr>\n",
       "    <tr>\n",
       "      <th>epsdiluted</th>\n",
       "      <td>4.42</td>\n",
       "      <td>5.610003</td>\n",
       "      <td>2.930501</td>\n",
       "      <td>2.458001</td>\n",
       "    </tr>\n",
       "    <tr>\n",
       "      <th>weightedAverageShsOut</th>\n",
       "      <td>13352993991</td>\n",
       "      <td>13352993991</td>\n",
       "      <td>13616313872</td>\n",
       "      <td>13851914459</td>\n",
       "    </tr>\n",
       "    <tr>\n",
       "      <th>weightedAverageShsOutDil</th>\n",
       "      <td>13553473900</td>\n",
       "      <td>13553473900</td>\n",
       "      <td>13740553816</td>\n",
       "      <td>13971114411</td>\n",
       "    </tr>\n",
       "  </tbody>\n",
       "</table>\n",
       "</div>"
      ],
      "text/plain": [
       "                                                    0             1  \\\n",
       "date                                       2022-12-31    2021-12-31   \n",
       "revenue                                  282836000000  257637000000   \n",
       "costOfRevenue                            126203000000  110939000000   \n",
       "grossProfit                              156633000000  146698000000   \n",
       "grossProfitRatio                             0.553794      0.569398   \n",
       "researchAndDevelopmentExpenses            39500000000   31562000000   \n",
       "generalAndAdministrativeExpenses          15724000000   13510000000   \n",
       "sellingAndMarketingExpenses               26567000000   22912000000   \n",
       "sellingGeneralAndAdministrativeExpenses   42291000000   36422000000   \n",
       "otherExpenses                                       0             0   \n",
       "operatingExpenses                         81791000000   67984000000   \n",
       "costAndExpenses                          207994000000  178923000000   \n",
       "interestIncome                                      0    1499000000   \n",
       "interestExpense                                     0     346000000   \n",
       "depreciationAndAmortization               15928000000   12441000000   \n",
       "ebitda                                    87256000000  103521000000   \n",
       "ebitdaratio                                  0.308504       0.40181   \n",
       "operatingIncome                           74842000000   78714000000   \n",
       "operatingIncomeRatio                         0.264613      0.305523   \n",
       "totalOtherIncomeExpensesNet               -3514000000   12020000000   \n",
       "incomeBeforeTax                           71328000000   90734000000   \n",
       "incomeBeforeTaxRatio                         0.252189      0.352178   \n",
       "incomeTaxExpense                          11356000000   14701000000   \n",
       "netIncome                                 59972000000   76033000000   \n",
       "netIncomeRatio                               0.212038      0.295117   \n",
       "eps                                              4.49      5.694003   \n",
       "epsdiluted                                       4.42      5.610003   \n",
       "weightedAverageShsOut                     13352993991   13352993991   \n",
       "weightedAverageShsOutDil                  13553473900   13553473900   \n",
       "\n",
       "                                                    2             3  \n",
       "date                                       2020-12-31    2019-12-31  \n",
       "revenue                                  182527000000  161857000000  \n",
       "costOfRevenue                             84732000000   71896000000  \n",
       "grossProfit                               97795000000   89961000000  \n",
       "grossProfitRatio                             0.535784      0.555805  \n",
       "researchAndDevelopmentExpenses            27573000000   26018000000  \n",
       "generalAndAdministrativeExpenses          11052000000    9551000000  \n",
       "sellingAndMarketingExpenses               17946000000   18464000000  \n",
       "sellingGeneralAndAdministrativeExpenses   28998000000   28015000000  \n",
       "otherExpenses                                       0             0  \n",
       "operatingExpenses                         56571000000   54033000000  \n",
       "costAndExpenses                          141303000000  125929000000  \n",
       "interestIncome                             1865000000    2427000000  \n",
       "interestExpense                             135000000     100000000  \n",
       "depreciationAndAmortization               13697000000   11781000000  \n",
       "ebitda                                    61914000000   51506000000  \n",
       "ebitdaratio                                  0.339205      0.318219  \n",
       "operatingIncome                           41224000000   34231000000  \n",
       "operatingIncomeRatio                         0.225852      0.211489  \n",
       "totalOtherIncomeExpensesNet                6858000000    5394000000  \n",
       "incomeBeforeTax                           48082000000   39625000000  \n",
       "incomeBeforeTaxRatio                         0.263424      0.244815  \n",
       "incomeTaxExpense                           7813000000    5282000000  \n",
       "netIncome                                 40269000000   34343000000  \n",
       "netIncomeRatio                               0.220619      0.212181  \n",
       "eps                                          2.957501      2.479501  \n",
       "epsdiluted                                   2.930501      2.458001  \n",
       "weightedAverageShsOut                     13616313872   13851914459  \n",
       "weightedAverageShsOutDil                  13740553816   13971114411  "
      ]
     },
     "execution_count": 118,
     "metadata": {},
     "output_type": "execute_result"
    }
   ],
   "source": [
    "# Transposing the table to get a better view\n",
    "IS_copy.transpose()"
   ]
  },
  {
   "cell_type": "code",
   "execution_count": null,
   "id": "9033babf",
   "metadata": {},
   "outputs": [],
   "source": [
    "#Getting the infomation about the data\n",
    "IS_copy.info()"
   ]
  },
  {
   "cell_type": "code",
   "execution_count": 170,
   "id": "e278daf1",
   "metadata": {},
   "outputs": [
    {
     "data": {
      "text/html": [
       "<div>\n",
       "<style scoped>\n",
       "    .dataframe tbody tr th:only-of-type {\n",
       "        vertical-align: middle;\n",
       "    }\n",
       "\n",
       "    .dataframe tbody tr th {\n",
       "        vertical-align: top;\n",
       "    }\n",
       "\n",
       "    .dataframe thead th {\n",
       "        text-align: right;\n",
       "    }\n",
       "</style>\n",
       "<table border=\"1\" class=\"dataframe\">\n",
       "  <thead>\n",
       "    <tr style=\"text-align: right;\">\n",
       "      <th></th>\n",
       "      <th>date</th>\n",
       "    </tr>\n",
       "  </thead>\n",
       "  <tbody>\n",
       "    <tr>\n",
       "      <th>0</th>\n",
       "      <td>2022</td>\n",
       "    </tr>\n",
       "    <tr>\n",
       "      <th>1</th>\n",
       "      <td>2021</td>\n",
       "    </tr>\n",
       "    <tr>\n",
       "      <th>2</th>\n",
       "      <td>2020</td>\n",
       "    </tr>\n",
       "    <tr>\n",
       "      <th>3</th>\n",
       "      <td>2019</td>\n",
       "    </tr>\n",
       "  </tbody>\n",
       "</table>\n",
       "</div>"
      ],
      "text/plain": [
       "   date\n",
       "0  2022\n",
       "1  2021\n",
       "2  2020\n",
       "3  2019"
      ]
     },
     "execution_count": 170,
     "metadata": {},
     "output_type": "execute_result"
    }
   ],
   "source": [
    "#converting the date column to date format\n",
    "IS_copy['date'] = pd.to_datetime(IS_copy['date'])\n",
    "IS_copy['date'] = IS_copy['date'].dt.strftime('%Y')\n",
    "\n",
    "# Creating a dataframe that would store all our data\n",
    "IS_analysis= pd.DataFrame(IS_copy['date'])\n",
    "\n",
    "IS_analysis"
   ]
  },
  {
   "cell_type": "code",
   "execution_count": 171,
   "id": "be57e98c",
   "metadata": {},
   "outputs": [
    {
     "data": {
      "text/html": [
       "<div>\n",
       "<style scoped>\n",
       "    .dataframe tbody tr th:only-of-type {\n",
       "        vertical-align: middle;\n",
       "    }\n",
       "\n",
       "    .dataframe tbody tr th {\n",
       "        vertical-align: top;\n",
       "    }\n",
       "\n",
       "    .dataframe thead th {\n",
       "        text-align: right;\n",
       "    }\n",
       "</style>\n",
       "<table border=\"1\" class=\"dataframe\">\n",
       "  <thead>\n",
       "    <tr style=\"text-align: right;\">\n",
       "      <th></th>\n",
       "      <th>date</th>\n",
       "      <th>Gross Profit Margin</th>\n",
       "    </tr>\n",
       "  </thead>\n",
       "  <tbody>\n",
       "    <tr>\n",
       "      <th>0</th>\n",
       "      <td>2022</td>\n",
       "      <td>0.55</td>\n",
       "    </tr>\n",
       "    <tr>\n",
       "      <th>1</th>\n",
       "      <td>2021</td>\n",
       "      <td>0.57</td>\n",
       "    </tr>\n",
       "    <tr>\n",
       "      <th>2</th>\n",
       "      <td>2020</td>\n",
       "      <td>0.54</td>\n",
       "    </tr>\n",
       "    <tr>\n",
       "      <th>3</th>\n",
       "      <td>2019</td>\n",
       "      <td>0.56</td>\n",
       "    </tr>\n",
       "  </tbody>\n",
       "</table>\n",
       "</div>"
      ],
      "text/plain": [
       "   date  Gross Profit Margin\n",
       "0  2022                 0.55\n",
       "1  2021                 0.57\n",
       "2  2020                 0.54\n",
       "3  2019                 0.56"
      ]
     },
     "execution_count": 171,
     "metadata": {},
     "output_type": "execute_result"
    }
   ],
   "source": [
    "#Solving Gross profit margin =(Revenue - Cost of Goods sold) ÷ Revenue \n",
    "Gross_profit = IS_copy['revenue']-IS_copy['costOfRevenue']\n",
    "Gross_profit_ratio= (Gross_profit/IS_copy['revenue']).round(2)\n",
    "\n",
    "#Storing the Gross profit margin in our data frame\n",
    "IS_analysis['Gross Profit Margin']= Gross_profit_ratio\n",
    "IS_analysis"
   ]
  },
  {
   "cell_type": "code",
   "execution_count": 172,
   "id": "c23ff869",
   "metadata": {},
   "outputs": [
    {
     "data": {
      "text/html": [
       "<div>\n",
       "<style scoped>\n",
       "    .dataframe tbody tr th:only-of-type {\n",
       "        vertical-align: middle;\n",
       "    }\n",
       "\n",
       "    .dataframe tbody tr th {\n",
       "        vertical-align: top;\n",
       "    }\n",
       "\n",
       "    .dataframe thead th {\n",
       "        text-align: right;\n",
       "    }\n",
       "</style>\n",
       "<table border=\"1\" class=\"dataframe\">\n",
       "  <thead>\n",
       "    <tr style=\"text-align: right;\">\n",
       "      <th></th>\n",
       "      <th>date</th>\n",
       "      <th>Gross Profit Margin</th>\n",
       "      <th>Net Profit Margin</th>\n",
       "    </tr>\n",
       "  </thead>\n",
       "  <tbody>\n",
       "    <tr>\n",
       "      <th>0</th>\n",
       "      <td>2022</td>\n",
       "      <td>0.55</td>\n",
       "      <td>0.21</td>\n",
       "    </tr>\n",
       "    <tr>\n",
       "      <th>1</th>\n",
       "      <td>2021</td>\n",
       "      <td>0.57</td>\n",
       "      <td>0.30</td>\n",
       "    </tr>\n",
       "    <tr>\n",
       "      <th>2</th>\n",
       "      <td>2020</td>\n",
       "      <td>0.54</td>\n",
       "      <td>0.22</td>\n",
       "    </tr>\n",
       "    <tr>\n",
       "      <th>3</th>\n",
       "      <td>2019</td>\n",
       "      <td>0.56</td>\n",
       "      <td>0.21</td>\n",
       "    </tr>\n",
       "  </tbody>\n",
       "</table>\n",
       "</div>"
      ],
      "text/plain": [
       "   date  Gross Profit Margin  Net Profit Margin\n",
       "0  2022                 0.55               0.21\n",
       "1  2021                 0.57               0.30\n",
       "2  2020                 0.54               0.22\n",
       "3  2019                 0.56               0.21"
      ]
     },
     "execution_count": 172,
     "metadata": {},
     "output_type": "execute_result"
    }
   ],
   "source": [
    "#Solving for Net profit margin = net income (after taxes) ÷ revenue\n",
    "Net_Profit_Margin = (IS_copy['netIncome']/IS_copy['revenue']).round(2)\n",
    "\n",
    "#Storing the Net profit margin in our data frame\n",
    "IS_analysis['Net Profit Margin']= Net_Profit_Margin\n",
    "IS_analysis"
   ]
  },
  {
   "cell_type": "code",
   "execution_count": 173,
   "id": "7e2dd06e",
   "metadata": {},
   "outputs": [
    {
     "data": {
      "text/html": [
       "<div>\n",
       "<style scoped>\n",
       "    .dataframe tbody tr th:only-of-type {\n",
       "        vertical-align: middle;\n",
       "    }\n",
       "\n",
       "    .dataframe tbody tr th {\n",
       "        vertical-align: top;\n",
       "    }\n",
       "\n",
       "    .dataframe thead th {\n",
       "        text-align: right;\n",
       "    }\n",
       "</style>\n",
       "<table border=\"1\" class=\"dataframe\">\n",
       "  <thead>\n",
       "    <tr style=\"text-align: right;\">\n",
       "      <th></th>\n",
       "      <th>date</th>\n",
       "      <th>Gross Profit Margin</th>\n",
       "      <th>Net Profit Margin</th>\n",
       "      <th>Return on Equity</th>\n",
       "    </tr>\n",
       "  </thead>\n",
       "  <tbody>\n",
       "    <tr>\n",
       "      <th>0</th>\n",
       "      <td>2022</td>\n",
       "      <td>0.55</td>\n",
       "      <td>0.21</td>\n",
       "      <td>0.23</td>\n",
       "    </tr>\n",
       "    <tr>\n",
       "      <th>1</th>\n",
       "      <td>2021</td>\n",
       "      <td>0.57</td>\n",
       "      <td>0.30</td>\n",
       "      <td>0.30</td>\n",
       "    </tr>\n",
       "    <tr>\n",
       "      <th>2</th>\n",
       "      <td>2020</td>\n",
       "      <td>0.54</td>\n",
       "      <td>0.22</td>\n",
       "      <td>0.18</td>\n",
       "    </tr>\n",
       "    <tr>\n",
       "      <th>3</th>\n",
       "      <td>2019</td>\n",
       "      <td>0.56</td>\n",
       "      <td>0.21</td>\n",
       "      <td>0.17</td>\n",
       "    </tr>\n",
       "  </tbody>\n",
       "</table>\n",
       "</div>"
      ],
      "text/plain": [
       "   date  Gross Profit Margin  Net Profit Margin  Return on Equity\n",
       "0  2022                 0.55               0.21              0.23\n",
       "1  2021                 0.57               0.30              0.30\n",
       "2  2020                 0.54               0.22              0.18\n",
       "3  2019                 0.56               0.21              0.17"
      ]
     },
     "execution_count": 173,
     "metadata": {},
     "output_type": "execute_result"
    }
   ],
   "source": [
    "# Solving for Return on equity (ROE) = net profit ÷ average shareholder equity for the period\n",
    "ROE= (IS_copy['netIncome']/ BS_copy['totalStockholdersEquity']).round(2)\n",
    "\n",
    "#Storing the Return on Equity in our dataframe\n",
    "IS_analysis['Return on Equity']= ROE\n",
    "IS_analysis"
   ]
  },
  {
   "cell_type": "code",
   "execution_count": 174,
   "id": "d0ad15e2",
   "metadata": {},
   "outputs": [
    {
     "data": {
      "text/html": [
       "<div>\n",
       "<style scoped>\n",
       "    .dataframe tbody tr th:only-of-type {\n",
       "        vertical-align: middle;\n",
       "    }\n",
       "\n",
       "    .dataframe tbody tr th {\n",
       "        vertical-align: top;\n",
       "    }\n",
       "\n",
       "    .dataframe thead th {\n",
       "        text-align: right;\n",
       "    }\n",
       "</style>\n",
       "<table border=\"1\" class=\"dataframe\">\n",
       "  <thead>\n",
       "    <tr style=\"text-align: right;\">\n",
       "      <th></th>\n",
       "      <th>date</th>\n",
       "      <th>Gross Profit Margin</th>\n",
       "      <th>Net Profit Margin</th>\n",
       "      <th>Return on Equity</th>\n",
       "      <th>Asset Turnover Ratio</th>\n",
       "    </tr>\n",
       "  </thead>\n",
       "  <tbody>\n",
       "    <tr>\n",
       "      <th>0</th>\n",
       "      <td>2022</td>\n",
       "      <td>0.55</td>\n",
       "      <td>0.21</td>\n",
       "      <td>0.23</td>\n",
       "      <td>0.77</td>\n",
       "    </tr>\n",
       "    <tr>\n",
       "      <th>1</th>\n",
       "      <td>2021</td>\n",
       "      <td>0.57</td>\n",
       "      <td>0.30</td>\n",
       "      <td>0.30</td>\n",
       "      <td>0.72</td>\n",
       "    </tr>\n",
       "    <tr>\n",
       "      <th>2</th>\n",
       "      <td>2020</td>\n",
       "      <td>0.54</td>\n",
       "      <td>0.22</td>\n",
       "      <td>0.18</td>\n",
       "      <td>0.57</td>\n",
       "    </tr>\n",
       "    <tr>\n",
       "      <th>3</th>\n",
       "      <td>2019</td>\n",
       "      <td>0.56</td>\n",
       "      <td>0.21</td>\n",
       "      <td>0.17</td>\n",
       "      <td>0.59</td>\n",
       "    </tr>\n",
       "  </tbody>\n",
       "</table>\n",
       "</div>"
      ],
      "text/plain": [
       "   date  Gross Profit Margin  Net Profit Margin  Return on Equity  \\\n",
       "0  2022                 0.55               0.21              0.23   \n",
       "1  2021                 0.57               0.30              0.30   \n",
       "2  2020                 0.54               0.22              0.18   \n",
       "3  2019                 0.56               0.21              0.17   \n",
       "\n",
       "   Asset Turnover Ratio  \n",
       "0                  0.77  \n",
       "1                  0.72  \n",
       "2                  0.57  \n",
       "3                  0.59  "
      ]
     },
     "execution_count": 174,
     "metadata": {},
     "output_type": "execute_result"
    }
   ],
   "source": [
    "# Solving for Asset turnover ratio Asset Turnover Ratio = Revenue / Total Assets\n",
    "Asset_Turnover_Ratio = (IS_copy['revenue']/BS_copy['totalAssets']).round(2)\n",
    "\n",
    "#Storing the Returns on asset in our dataframe\n",
    "IS_analysis['Asset Turnover Ratio']= Asset_Turnover_Ratio \n",
    "IS_analysis"
   ]
  },
  {
   "cell_type": "code",
   "execution_count": 175,
   "id": "1340576e",
   "metadata": {},
   "outputs": [
    {
     "data": {
      "text/html": [
       "<div>\n",
       "<style scoped>\n",
       "    .dataframe tbody tr th:only-of-type {\n",
       "        vertical-align: middle;\n",
       "    }\n",
       "\n",
       "    .dataframe tbody tr th {\n",
       "        vertical-align: top;\n",
       "    }\n",
       "\n",
       "    .dataframe thead th {\n",
       "        text-align: right;\n",
       "    }\n",
       "</style>\n",
       "<table border=\"1\" class=\"dataframe\">\n",
       "  <thead>\n",
       "    <tr style=\"text-align: right;\">\n",
       "      <th></th>\n",
       "      <th>date</th>\n",
       "      <th>Gross Profit Margin</th>\n",
       "      <th>Net Profit Margin</th>\n",
       "      <th>Return on Equity</th>\n",
       "      <th>Asset Turnover Ratio</th>\n",
       "      <th>Revenue</th>\n",
       "    </tr>\n",
       "  </thead>\n",
       "  <tbody>\n",
       "    <tr>\n",
       "      <th>0</th>\n",
       "      <td>2022</td>\n",
       "      <td>0.55</td>\n",
       "      <td>0.21</td>\n",
       "      <td>0.23</td>\n",
       "      <td>0.77</td>\n",
       "      <td>282836000000</td>\n",
       "    </tr>\n",
       "    <tr>\n",
       "      <th>1</th>\n",
       "      <td>2021</td>\n",
       "      <td>0.57</td>\n",
       "      <td>0.30</td>\n",
       "      <td>0.30</td>\n",
       "      <td>0.72</td>\n",
       "      <td>257637000000</td>\n",
       "    </tr>\n",
       "    <tr>\n",
       "      <th>2</th>\n",
       "      <td>2020</td>\n",
       "      <td>0.54</td>\n",
       "      <td>0.22</td>\n",
       "      <td>0.18</td>\n",
       "      <td>0.57</td>\n",
       "      <td>182527000000</td>\n",
       "    </tr>\n",
       "    <tr>\n",
       "      <th>3</th>\n",
       "      <td>2019</td>\n",
       "      <td>0.56</td>\n",
       "      <td>0.21</td>\n",
       "      <td>0.17</td>\n",
       "      <td>0.59</td>\n",
       "      <td>161857000000</td>\n",
       "    </tr>\n",
       "  </tbody>\n",
       "</table>\n",
       "</div>"
      ],
      "text/plain": [
       "   date  Gross Profit Margin  Net Profit Margin  Return on Equity  \\\n",
       "0  2022                 0.55               0.21              0.23   \n",
       "1  2021                 0.57               0.30              0.30   \n",
       "2  2020                 0.54               0.22              0.18   \n",
       "3  2019                 0.56               0.21              0.17   \n",
       "\n",
       "   Asset Turnover Ratio       Revenue  \n",
       "0                  0.77  282836000000  \n",
       "1                  0.72  257637000000  \n",
       "2                  0.57  182527000000  \n",
       "3                  0.59  161857000000  "
      ]
     },
     "execution_count": 175,
     "metadata": {},
     "output_type": "execute_result"
    }
   ],
   "source": [
    "# Adding the revenues column to our data base\n",
    "IS_analysis['Revenue']= IS_copy['revenue']\n",
    "IS_analysis"
   ]
  },
  {
   "cell_type": "code",
   "execution_count": 176,
   "id": "7f19c41d",
   "metadata": {
    "scrolled": true
   },
   "outputs": [
    {
     "data": {
      "text/html": [
       "<div>\n",
       "<style scoped>\n",
       "    .dataframe tbody tr th:only-of-type {\n",
       "        vertical-align: middle;\n",
       "    }\n",
       "\n",
       "    .dataframe tbody tr th {\n",
       "        vertical-align: top;\n",
       "    }\n",
       "\n",
       "    .dataframe thead th {\n",
       "        text-align: right;\n",
       "    }\n",
       "</style>\n",
       "<table border=\"1\" class=\"dataframe\">\n",
       "  <thead>\n",
       "    <tr style=\"text-align: right;\">\n",
       "      <th></th>\n",
       "      <th>date</th>\n",
       "      <th>Gross Profit Margin</th>\n",
       "      <th>Net Profit Margin</th>\n",
       "      <th>Return on Equity</th>\n",
       "      <th>Asset Turnover Ratio</th>\n",
       "      <th>Revenue</th>\n",
       "      <th>Revenue Growth</th>\n",
       "    </tr>\n",
       "  </thead>\n",
       "  <tbody>\n",
       "    <tr>\n",
       "      <th>0</th>\n",
       "      <td>2022</td>\n",
       "      <td>0.55</td>\n",
       "      <td>0.21</td>\n",
       "      <td>0.23</td>\n",
       "      <td>0.77</td>\n",
       "      <td>282836000000</td>\n",
       "      <td>NaN</td>\n",
       "    </tr>\n",
       "    <tr>\n",
       "      <th>1</th>\n",
       "      <td>2021</td>\n",
       "      <td>0.57</td>\n",
       "      <td>0.30</td>\n",
       "      <td>0.30</td>\n",
       "      <td>0.72</td>\n",
       "      <td>257637000000</td>\n",
       "      <td>-8.91</td>\n",
       "    </tr>\n",
       "    <tr>\n",
       "      <th>2</th>\n",
       "      <td>2020</td>\n",
       "      <td>0.54</td>\n",
       "      <td>0.22</td>\n",
       "      <td>0.18</td>\n",
       "      <td>0.57</td>\n",
       "      <td>182527000000</td>\n",
       "      <td>-29.15</td>\n",
       "    </tr>\n",
       "    <tr>\n",
       "      <th>3</th>\n",
       "      <td>2019</td>\n",
       "      <td>0.56</td>\n",
       "      <td>0.21</td>\n",
       "      <td>0.17</td>\n",
       "      <td>0.59</td>\n",
       "      <td>161857000000</td>\n",
       "      <td>-11.32</td>\n",
       "    </tr>\n",
       "  </tbody>\n",
       "</table>\n",
       "</div>"
      ],
      "text/plain": [
       "   date  Gross Profit Margin  Net Profit Margin  Return on Equity  \\\n",
       "0  2022                 0.55               0.21              0.23   \n",
       "1  2021                 0.57               0.30              0.30   \n",
       "2  2020                 0.54               0.22              0.18   \n",
       "3  2019                 0.56               0.21              0.17   \n",
       "\n",
       "   Asset Turnover Ratio       Revenue  Revenue Growth  \n",
       "0                  0.77  282836000000             NaN  \n",
       "1                  0.72  257637000000           -8.91  \n",
       "2                  0.57  182527000000          -29.15  \n",
       "3                  0.59  161857000000          -11.32  "
      ]
     },
     "execution_count": 176,
     "metadata": {},
     "output_type": "execute_result"
    }
   ],
   "source": [
    "#Storing the Revenue growth in our dataframe\n",
    "IS_analysis['Revenue Growth']= (IS_analysis['Revenue'].pct_change() * 100).round(2)\n",
    "IS_analysis"
   ]
  },
  {
   "cell_type": "code",
   "execution_count": 185,
   "id": "b32e996d",
   "metadata": {},
   "outputs": [
    {
     "data": {
      "text/plain": [
       "<Figure size 720x432 with 0 Axes>"
      ]
     },
     "metadata": {},
     "output_type": "display_data"
    },
    {
     "data": {
      "image/png": "[encoded data removed]",
      "text/plain": [
       "<Figure size 432x288 with 1 Axes>"
      ]
     },
     "metadata": {
      "needs_background": "light"
     },
     "output_type": "display_data"
    }
   ],
   "source": [
    "\n",
    "# Visualizing the data\n",
    "\n",
    "IS_viz= IS_analysis.groupby('date')['Gross Profit Margin', 'Net Profit Margin', 'Return on Equity', 'Asset Turnover Ratio'].sum()\n",
    "\n",
    "#Setting the size of the graph\n",
    "plt.figure(figsize=(10,6))\n",
    "\n",
    "#Plotting a line chart\n",
    "IS_viz.plot(marker='o')\n",
    "\n",
    "#Placing the legend outside the chart\n",
    "plt.legend(bbox_to_anchor=(1.05, 1.0), loc='upper left')\n",
    "\n",
    "#Setting the size of the graph\n",
    "\n",
    "\n",
    "# Including Grid lines\n",
    "plt.grid(linestyle='--', linewidth=0.5)\n",
    "\n",
    "plt.show()"
   ]
  },
  {
   "cell_type": "markdown",
   "id": "31c1ef90",
   "metadata": {},
   "source": [
    "## Balancesheet analysis\n",
    "\n",
    "- Working capital analysis\n",
    "- Working current ratio\n",
    "- Current ratio\n",
    "- Quick Ratio\n",
    "- Debt to Equity Ratio"
   ]
  },
  {
   "cell_type": "code",
   "execution_count": 23,
   "id": "7d270aa1",
   "metadata": {},
   "outputs": [
    {
     "data": {
      "text/html": [
       "<div>\n",
       "<style scoped>\n",
       "    .dataframe tbody tr th:only-of-type {\n",
       "        vertical-align: middle;\n",
       "    }\n",
       "\n",
       "    .dataframe tbody tr th {\n",
       "        vertical-align: top;\n",
       "    }\n",
       "\n",
       "    .dataframe thead th {\n",
       "        text-align: right;\n",
       "    }\n",
       "</style>\n",
       "<table border=\"1\" class=\"dataframe\">\n",
       "  <thead>\n",
       "    <tr style=\"text-align: right;\">\n",
       "      <th></th>\n",
       "      <th>date</th>\n",
       "      <th>symbol</th>\n",
       "      <th>reportedCurrency</th>\n",
       "      <th>cik</th>\n",
       "      <th>fillingDate</th>\n",
       "      <th>acceptedDate</th>\n",
       "      <th>calendarYear</th>\n",
       "      <th>period</th>\n",
       "      <th>cashAndCashEquivalents</th>\n",
       "      <th>shortTermInvestments</th>\n",
       "      <th>...</th>\n",
       "      <th>totalStockholdersEquity</th>\n",
       "      <th>totalEquity</th>\n",
       "      <th>totalLiabilitiesAndStockholdersEquity</th>\n",
       "      <th>minorityInterest</th>\n",
       "      <th>totalLiabilitiesAndTotalEquity</th>\n",
       "      <th>totalInvestments</th>\n",
       "      <th>totalDebt</th>\n",
       "      <th>netDebt</th>\n",
       "      <th>link</th>\n",
       "      <th>finalLink</th>\n",
       "    </tr>\n",
       "  </thead>\n",
       "  <tbody>\n",
       "    <tr>\n",
       "      <th>0</th>\n",
       "      <td>2022-12-31</td>\n",
       "      <td>GOOGL</td>\n",
       "      <td>USD</td>\n",
       "      <td>0001652044</td>\n",
       "      <td>2023-02-03</td>\n",
       "      <td>2023-02-02 21:23:45</td>\n",
       "      <td>2022</td>\n",
       "      <td>FY</td>\n",
       "      <td>21879000000</td>\n",
       "      <td>91883000000</td>\n",
       "      <td>...</td>\n",
       "      <td>256144000000</td>\n",
       "      <td>256144000000</td>\n",
       "      <td>365264000000</td>\n",
       "      <td>0</td>\n",
       "      <td>365264000000</td>\n",
       "      <td>122375000000</td>\n",
       "      <td>27202000000</td>\n",
       "      <td>5323000000</td>\n",
       "      <td>https://www.sec.gov/Archives/edgar/data/165204...</td>\n",
       "      <td>https://www.sec.gov/Archives/edgar/data/165204...</td>\n",
       "    </tr>\n",
       "    <tr>\n",
       "      <th>1</th>\n",
       "      <td>2021-12-31</td>\n",
       "      <td>GOOGL</td>\n",
       "      <td>USD</td>\n",
       "      <td>0001652044</td>\n",
       "      <td>2022-02-02</td>\n",
       "      <td>2022-02-01 21:08:02</td>\n",
       "      <td>2021</td>\n",
       "      <td>FY</td>\n",
       "      <td>20945000000</td>\n",
       "      <td>118704000000</td>\n",
       "      <td>...</td>\n",
       "      <td>251635000000</td>\n",
       "      <td>251635000000</td>\n",
       "      <td>359268000000</td>\n",
       "      <td>0</td>\n",
       "      <td>359268000000</td>\n",
       "      <td>148253000000</td>\n",
       "      <td>28395000000</td>\n",
       "      <td>7450000000</td>\n",
       "      <td>https://www.sec.gov/Archives/edgar/data/165204...</td>\n",
       "      <td>https://www.sec.gov/Archives/edgar/data/165204...</td>\n",
       "    </tr>\n",
       "    <tr>\n",
       "      <th>2</th>\n",
       "      <td>2020-12-31</td>\n",
       "      <td>GOOGL</td>\n",
       "      <td>USD</td>\n",
       "      <td>0001652044</td>\n",
       "      <td>2021-02-03</td>\n",
       "      <td>2021-02-02 20:12:25</td>\n",
       "      <td>2020</td>\n",
       "      <td>FY</td>\n",
       "      <td>26465000000</td>\n",
       "      <td>110229000000</td>\n",
       "      <td>...</td>\n",
       "      <td>222544000000</td>\n",
       "      <td>222544000000</td>\n",
       "      <td>319616000000</td>\n",
       "      <td>0</td>\n",
       "      <td>319616000000</td>\n",
       "      <td>130932000000</td>\n",
       "      <td>26772000000</td>\n",
       "      <td>307000000</td>\n",
       "      <td>https://www.sec.gov/Archives/edgar/data/165204...</td>\n",
       "      <td>https://www.sec.gov/Archives/edgar/data/165204...</td>\n",
       "    </tr>\n",
       "    <tr>\n",
       "      <th>3</th>\n",
       "      <td>2019-12-31</td>\n",
       "      <td>GOOGL</td>\n",
       "      <td>USD</td>\n",
       "      <td>0001652044</td>\n",
       "      <td>2020-02-04</td>\n",
       "      <td>2020-02-03 21:03:59</td>\n",
       "      <td>2019</td>\n",
       "      <td>FY</td>\n",
       "      <td>18498000000</td>\n",
       "      <td>101177000000</td>\n",
       "      <td>...</td>\n",
       "      <td>201442000000</td>\n",
       "      <td>201442000000</td>\n",
       "      <td>275909000000</td>\n",
       "      <td>0</td>\n",
       "      <td>275909000000</td>\n",
       "      <td>114255000000</td>\n",
       "      <td>15967000000</td>\n",
       "      <td>-2531000000</td>\n",
       "      <td>https://www.sec.gov/Archives/edgar/data/165204...</td>\n",
       "      <td>https://www.sec.gov/Archives/edgar/data/165204...</td>\n",
       "    </tr>\n",
       "  </tbody>\n",
       "</table>\n",
       "<p>4 rows × 54 columns</p>\n",
       "</div>"
      ],
      "text/plain": [
       "         date symbol reportedCurrency         cik fillingDate  \\\n",
       "0  2022-12-31  GOOGL              USD  0001652044  2023-02-03   \n",
       "1  2021-12-31  GOOGL              USD  0001652044  2022-02-02   \n",
       "2  2020-12-31  GOOGL              USD  0001652044  2021-02-03   \n",
       "3  2019-12-31  GOOGL              USD  0001652044  2020-02-04   \n",
       "\n",
       "          acceptedDate calendarYear period  cashAndCashEquivalents  \\\n",
       "0  2023-02-02 21:23:45         2022     FY             21879000000   \n",
       "1  2022-02-01 21:08:02         2021     FY             20945000000   \n",
       "2  2021-02-02 20:12:25         2020     FY             26465000000   \n",
       "3  2020-02-03 21:03:59         2019     FY             18498000000   \n",
       "\n",
       "   shortTermInvestments  ...  totalStockholdersEquity   totalEquity  \\\n",
       "0           91883000000  ...             256144000000  256144000000   \n",
       "1          118704000000  ...             251635000000  251635000000   \n",
       "2          110229000000  ...             222544000000  222544000000   \n",
       "3          101177000000  ...             201442000000  201442000000   \n",
       "\n",
       "   totalLiabilitiesAndStockholdersEquity  minorityInterest  \\\n",
       "0                           365264000000                 0   \n",
       "1                           359268000000                 0   \n",
       "2                           319616000000                 0   \n",
       "3                           275909000000                 0   \n",
       "\n",
       "   totalLiabilitiesAndTotalEquity  totalInvestments    totalDebt     netDebt  \\\n",
       "0                    365264000000      122375000000  27202000000  5323000000   \n",
       "1                    359268000000      148253000000  28395000000  7450000000   \n",
       "2                    319616000000      130932000000  26772000000   307000000   \n",
       "3                    275909000000      114255000000  15967000000 -2531000000   \n",
       "\n",
       "                                                link  \\\n",
       "0  https://www.sec.gov/Archives/edgar/data/165204...   \n",
       "1  https://www.sec.gov/Archives/edgar/data/165204...   \n",
       "2  https://www.sec.gov/Archives/edgar/data/165204...   \n",
       "3  https://www.sec.gov/Archives/edgar/data/165204...   \n",
       "\n",
       "                                           finalLink  \n",
       "0  https://www.sec.gov/Archives/edgar/data/165204...  \n",
       "1  https://www.sec.gov/Archives/edgar/data/165204...  \n",
       "2  https://www.sec.gov/Archives/edgar/data/165204...  \n",
       "3  https://www.sec.gov/Archives/edgar/data/165204...  \n",
       "\n",
       "[4 rows x 54 columns]"
      ]
     },
     "execution_count": 23,
     "metadata": {},
     "output_type": "execute_result"
    }
   ],
   "source": [
    "# Displaying the balance sheet\n",
    "BS_copy"
   ]
  },
  {
   "cell_type": "code",
   "execution_count": 24,
   "id": "4c35059d",
   "metadata": {},
   "outputs": [
    {
     "data": {
      "text/html": [
       "<div>\n",
       "<style scoped>\n",
       "    .dataframe tbody tr th:only-of-type {\n",
       "        vertical-align: middle;\n",
       "    }\n",
       "\n",
       "    .dataframe tbody tr th {\n",
       "        vertical-align: top;\n",
       "    }\n",
       "\n",
       "    .dataframe thead th {\n",
       "        text-align: right;\n",
       "    }\n",
       "</style>\n",
       "<table border=\"1\" class=\"dataframe\">\n",
       "  <thead>\n",
       "    <tr style=\"text-align: right;\">\n",
       "      <th></th>\n",
       "      <th>date</th>\n",
       "      <th>cashAndCashEquivalents</th>\n",
       "      <th>shortTermInvestments</th>\n",
       "      <th>cashAndShortTermInvestments</th>\n",
       "      <th>netReceivables</th>\n",
       "      <th>inventory</th>\n",
       "      <th>otherCurrentAssets</th>\n",
       "      <th>totalCurrentAssets</th>\n",
       "      <th>propertyPlantEquipmentNet</th>\n",
       "      <th>goodwill</th>\n",
       "      <th>...</th>\n",
       "      <th>accumulatedOtherComprehensiveIncomeLoss</th>\n",
       "      <th>othertotalStockholdersEquity</th>\n",
       "      <th>totalStockholdersEquity</th>\n",
       "      <th>totalEquity</th>\n",
       "      <th>totalLiabilitiesAndStockholdersEquity</th>\n",
       "      <th>minorityInterest</th>\n",
       "      <th>totalLiabilitiesAndTotalEquity</th>\n",
       "      <th>totalInvestments</th>\n",
       "      <th>totalDebt</th>\n",
       "      <th>netDebt</th>\n",
       "    </tr>\n",
       "  </thead>\n",
       "  <tbody>\n",
       "    <tr>\n",
       "      <th>0</th>\n",
       "      <td>2022-12-31</td>\n",
       "      <td>21879000000</td>\n",
       "      <td>91883000000</td>\n",
       "      <td>113762000000</td>\n",
       "      <td>40258000000</td>\n",
       "      <td>2670000000</td>\n",
       "      <td>8105000000</td>\n",
       "      <td>164795000000</td>\n",
       "      <td>127049000000</td>\n",
       "      <td>28960000000</td>\n",
       "      <td>...</td>\n",
       "      <td>-7603000000</td>\n",
       "      <td>68184000000</td>\n",
       "      <td>256144000000</td>\n",
       "      <td>256144000000</td>\n",
       "      <td>365264000000</td>\n",
       "      <td>0</td>\n",
       "      <td>365264000000</td>\n",
       "      <td>122375000000</td>\n",
       "      <td>27202000000</td>\n",
       "      <td>5323000000</td>\n",
       "    </tr>\n",
       "    <tr>\n",
       "      <th>1</th>\n",
       "      <td>2021-12-31</td>\n",
       "      <td>20945000000</td>\n",
       "      <td>118704000000</td>\n",
       "      <td>139649000000</td>\n",
       "      <td>40270000000</td>\n",
       "      <td>1170000000</td>\n",
       "      <td>7054000000</td>\n",
       "      <td>188143000000</td>\n",
       "      <td>110557000000</td>\n",
       "      <td>22956000000</td>\n",
       "      <td>...</td>\n",
       "      <td>-1623000000</td>\n",
       "      <td>0</td>\n",
       "      <td>251635000000</td>\n",
       "      <td>251635000000</td>\n",
       "      <td>359268000000</td>\n",
       "      <td>0</td>\n",
       "      <td>359268000000</td>\n",
       "      <td>148253000000</td>\n",
       "      <td>28395000000</td>\n",
       "      <td>7450000000</td>\n",
       "    </tr>\n",
       "    <tr>\n",
       "      <th>2</th>\n",
       "      <td>2020-12-31</td>\n",
       "      <td>26465000000</td>\n",
       "      <td>110229000000</td>\n",
       "      <td>136694000000</td>\n",
       "      <td>31384000000</td>\n",
       "      <td>728000000</td>\n",
       "      <td>5490000000</td>\n",
       "      <td>174296000000</td>\n",
       "      <td>96960000000</td>\n",
       "      <td>21175000000</td>\n",
       "      <td>...</td>\n",
       "      <td>633000000</td>\n",
       "      <td>0</td>\n",
       "      <td>222544000000</td>\n",
       "      <td>222544000000</td>\n",
       "      <td>319616000000</td>\n",
       "      <td>0</td>\n",
       "      <td>319616000000</td>\n",
       "      <td>130932000000</td>\n",
       "      <td>26772000000</td>\n",
       "      <td>307000000</td>\n",
       "    </tr>\n",
       "    <tr>\n",
       "      <th>3</th>\n",
       "      <td>2019-12-31</td>\n",
       "      <td>18498000000</td>\n",
       "      <td>101177000000</td>\n",
       "      <td>119675000000</td>\n",
       "      <td>27492000000</td>\n",
       "      <td>999000000</td>\n",
       "      <td>4412000000</td>\n",
       "      <td>152578000000</td>\n",
       "      <td>84587000000</td>\n",
       "      <td>20624000000</td>\n",
       "      <td>...</td>\n",
       "      <td>-1232000000</td>\n",
       "      <td>0</td>\n",
       "      <td>201442000000</td>\n",
       "      <td>201442000000</td>\n",
       "      <td>275909000000</td>\n",
       "      <td>0</td>\n",
       "      <td>275909000000</td>\n",
       "      <td>114255000000</td>\n",
       "      <td>15967000000</td>\n",
       "      <td>-2531000000</td>\n",
       "    </tr>\n",
       "  </tbody>\n",
       "</table>\n",
       "<p>4 rows × 45 columns</p>\n",
       "</div>"
      ],
      "text/plain": [
       "         date  cashAndCashEquivalents  shortTermInvestments  \\\n",
       "0  2022-12-31             21879000000           91883000000   \n",
       "1  2021-12-31             20945000000          118704000000   \n",
       "2  2020-12-31             26465000000          110229000000   \n",
       "3  2019-12-31             18498000000          101177000000   \n",
       "\n",
       "   cashAndShortTermInvestments  netReceivables   inventory  \\\n",
       "0                 113762000000     40258000000  2670000000   \n",
       "1                 139649000000     40270000000  1170000000   \n",
       "2                 136694000000     31384000000   728000000   \n",
       "3                 119675000000     27492000000   999000000   \n",
       "\n",
       "   otherCurrentAssets  totalCurrentAssets  propertyPlantEquipmentNet  \\\n",
       "0          8105000000        164795000000               127049000000   \n",
       "1          7054000000        188143000000               110557000000   \n",
       "2          5490000000        174296000000                96960000000   \n",
       "3          4412000000        152578000000                84587000000   \n",
       "\n",
       "      goodwill  ...  accumulatedOtherComprehensiveIncomeLoss  \\\n",
       "0  28960000000  ...                              -7603000000   \n",
       "1  22956000000  ...                              -1623000000   \n",
       "2  21175000000  ...                                633000000   \n",
       "3  20624000000  ...                              -1232000000   \n",
       "\n",
       "   othertotalStockholdersEquity  totalStockholdersEquity   totalEquity  \\\n",
       "0                   68184000000             256144000000  256144000000   \n",
       "1                             0             251635000000  251635000000   \n",
       "2                             0             222544000000  222544000000   \n",
       "3                             0             201442000000  201442000000   \n",
       "\n",
       "   totalLiabilitiesAndStockholdersEquity  minorityInterest  \\\n",
       "0                           365264000000                 0   \n",
       "1                           359268000000                 0   \n",
       "2                           319616000000                 0   \n",
       "3                           275909000000                 0   \n",
       "\n",
       "   totalLiabilitiesAndTotalEquity  totalInvestments    totalDebt     netDebt  \n",
       "0                    365264000000      122375000000  27202000000  5323000000  \n",
       "1                    359268000000      148253000000  28395000000  7450000000  \n",
       "2                    319616000000      130932000000  26772000000   307000000  \n",
       "3                    275909000000      114255000000  15967000000 -2531000000  \n",
       "\n",
       "[4 rows x 45 columns]"
      ]
     },
     "execution_count": 24,
     "metadata": {},
     "output_type": "execute_result"
    }
   ],
   "source": [
    "# Dropping columns we would not be needing for the analysis\n",
    "BS_copy.drop(['symbol', 'reportedCurrency', 'cik', 'fillingDate', \n",
    "                       'acceptedDate', 'calendarYear', 'period', 'link', 'finalLink'], axis=1, inplace=True)\n",
    "BS_copy"
   ]
  },
  {
   "cell_type": "code",
   "execution_count": 25,
   "id": "8467df48",
   "metadata": {},
   "outputs": [
    {
     "data": {
      "text/html": [
       "<div>\n",
       "<style scoped>\n",
       "    .dataframe tbody tr th:only-of-type {\n",
       "        vertical-align: middle;\n",
       "    }\n",
       "\n",
       "    .dataframe tbody tr th {\n",
       "        vertical-align: top;\n",
       "    }\n",
       "\n",
       "    .dataframe thead th {\n",
       "        text-align: right;\n",
       "    }\n",
       "</style>\n",
       "<table border=\"1\" class=\"dataframe\">\n",
       "  <thead>\n",
       "    <tr style=\"text-align: right;\">\n",
       "      <th></th>\n",
       "      <th>0</th>\n",
       "      <th>1</th>\n",
       "      <th>2</th>\n",
       "      <th>3</th>\n",
       "    </tr>\n",
       "  </thead>\n",
       "  <tbody>\n",
       "    <tr>\n",
       "      <th>date</th>\n",
       "      <td>2022-12-31</td>\n",
       "      <td>2021-12-31</td>\n",
       "      <td>2020-12-31</td>\n",
       "      <td>2019-12-31</td>\n",
       "    </tr>\n",
       "    <tr>\n",
       "      <th>cashAndCashEquivalents</th>\n",
       "      <td>21879000000</td>\n",
       "      <td>20945000000</td>\n",
       "      <td>26465000000</td>\n",
       "      <td>18498000000</td>\n",
       "    </tr>\n",
       "    <tr>\n",
       "      <th>shortTermInvestments</th>\n",
       "      <td>91883000000</td>\n",
       "      <td>118704000000</td>\n",
       "      <td>110229000000</td>\n",
       "      <td>101177000000</td>\n",
       "    </tr>\n",
       "    <tr>\n",
       "      <th>cashAndShortTermInvestments</th>\n",
       "      <td>113762000000</td>\n",
       "      <td>139649000000</td>\n",
       "      <td>136694000000</td>\n",
       "      <td>119675000000</td>\n",
       "    </tr>\n",
       "    <tr>\n",
       "      <th>netReceivables</th>\n",
       "      <td>40258000000</td>\n",
       "      <td>40270000000</td>\n",
       "      <td>31384000000</td>\n",
       "      <td>27492000000</td>\n",
       "    </tr>\n",
       "    <tr>\n",
       "      <th>inventory</th>\n",
       "      <td>2670000000</td>\n",
       "      <td>1170000000</td>\n",
       "      <td>728000000</td>\n",
       "      <td>999000000</td>\n",
       "    </tr>\n",
       "    <tr>\n",
       "      <th>otherCurrentAssets</th>\n",
       "      <td>8105000000</td>\n",
       "      <td>7054000000</td>\n",
       "      <td>5490000000</td>\n",
       "      <td>4412000000</td>\n",
       "    </tr>\n",
       "    <tr>\n",
       "      <th>totalCurrentAssets</th>\n",
       "      <td>164795000000</td>\n",
       "      <td>188143000000</td>\n",
       "      <td>174296000000</td>\n",
       "      <td>152578000000</td>\n",
       "    </tr>\n",
       "    <tr>\n",
       "      <th>propertyPlantEquipmentNet</th>\n",
       "      <td>127049000000</td>\n",
       "      <td>110557000000</td>\n",
       "      <td>96960000000</td>\n",
       "      <td>84587000000</td>\n",
       "    </tr>\n",
       "    <tr>\n",
       "      <th>goodwill</th>\n",
       "      <td>28960000000</td>\n",
       "      <td>22956000000</td>\n",
       "      <td>21175000000</td>\n",
       "      <td>20624000000</td>\n",
       "    </tr>\n",
       "    <tr>\n",
       "      <th>intangibleAssets</th>\n",
       "      <td>2084000000</td>\n",
       "      <td>1417000000</td>\n",
       "      <td>1445000000</td>\n",
       "      <td>1979000000</td>\n",
       "    </tr>\n",
       "    <tr>\n",
       "      <th>goodwillAndIntangibleAssets</th>\n",
       "      <td>31044000000</td>\n",
       "      <td>24373000000</td>\n",
       "      <td>22620000000</td>\n",
       "      <td>22603000000</td>\n",
       "    </tr>\n",
       "    <tr>\n",
       "      <th>longTermInvestments</th>\n",
       "      <td>30492000000</td>\n",
       "      <td>29549000000</td>\n",
       "      <td>20703000000</td>\n",
       "      <td>13078000000</td>\n",
       "    </tr>\n",
       "    <tr>\n",
       "      <th>taxAssets</th>\n",
       "      <td>5261000000</td>\n",
       "      <td>1284000000</td>\n",
       "      <td>1084000000</td>\n",
       "      <td>721000000</td>\n",
       "    </tr>\n",
       "    <tr>\n",
       "      <th>otherNonCurrentAssets</th>\n",
       "      <td>6623000000</td>\n",
       "      <td>5361000000</td>\n",
       "      <td>3953000000</td>\n",
       "      <td>2342000000</td>\n",
       "    </tr>\n",
       "    <tr>\n",
       "      <th>totalNonCurrentAssets</th>\n",
       "      <td>200469000000</td>\n",
       "      <td>171124000000</td>\n",
       "      <td>145320000000</td>\n",
       "      <td>123331000000</td>\n",
       "    </tr>\n",
       "    <tr>\n",
       "      <th>otherAssets</th>\n",
       "      <td>0</td>\n",
       "      <td>1000000</td>\n",
       "      <td>0</td>\n",
       "      <td>0</td>\n",
       "    </tr>\n",
       "    <tr>\n",
       "      <th>totalAssets</th>\n",
       "      <td>365264000000</td>\n",
       "      <td>359268000000</td>\n",
       "      <td>319616000000</td>\n",
       "      <td>275909000000</td>\n",
       "    </tr>\n",
       "    <tr>\n",
       "      <th>accountPayables</th>\n",
       "      <td>5128000000</td>\n",
       "      <td>6037000000</td>\n",
       "      <td>5589000000</td>\n",
       "      <td>5561000000</td>\n",
       "    </tr>\n",
       "    <tr>\n",
       "      <th>shortTermDebt</th>\n",
       "      <td>0</td>\n",
       "      <td>2189000000</td>\n",
       "      <td>1694000000</td>\n",
       "      <td>1199000000</td>\n",
       "    </tr>\n",
       "    <tr>\n",
       "      <th>taxPayables</th>\n",
       "      <td>9258000000</td>\n",
       "      <td>808000000</td>\n",
       "      <td>1485000000</td>\n",
       "      <td>274000000</td>\n",
       "    </tr>\n",
       "    <tr>\n",
       "      <th>deferredRevenue</th>\n",
       "      <td>3908000000</td>\n",
       "      <td>3288000000</td>\n",
       "      <td>2543000000</td>\n",
       "      <td>1908000000</td>\n",
       "    </tr>\n",
       "    <tr>\n",
       "      <th>otherCurrentLiabilities</th>\n",
       "      <td>51006000000</td>\n",
       "      <td>51932000000</td>\n",
       "      <td>45523000000</td>\n",
       "      <td>36279000000</td>\n",
       "    </tr>\n",
       "    <tr>\n",
       "      <th>totalCurrentLiabilities</th>\n",
       "      <td>69300000000</td>\n",
       "      <td>64254000000</td>\n",
       "      <td>56834000000</td>\n",
       "      <td>45221000000</td>\n",
       "    </tr>\n",
       "    <tr>\n",
       "      <th>longTermDebt</th>\n",
       "      <td>27202000000</td>\n",
       "      <td>26206000000</td>\n",
       "      <td>25078000000</td>\n",
       "      <td>14768000000</td>\n",
       "    </tr>\n",
       "    <tr>\n",
       "      <th>deferredRevenueNonCurrent</th>\n",
       "      <td>599000000</td>\n",
       "      <td>535000000</td>\n",
       "      <td>481000000</td>\n",
       "      <td>358000000</td>\n",
       "    </tr>\n",
       "    <tr>\n",
       "      <th>deferredTaxLiabilitiesNonCurrent</th>\n",
       "      <td>514000000</td>\n",
       "      <td>5257000000</td>\n",
       "      <td>3561000000</td>\n",
       "      <td>1701000000</td>\n",
       "    </tr>\n",
       "    <tr>\n",
       "      <th>otherNonCurrentLiabilities</th>\n",
       "      <td>11505000000</td>\n",
       "      <td>11381000000</td>\n",
       "      <td>11118000000</td>\n",
       "      <td>12419000000</td>\n",
       "    </tr>\n",
       "    <tr>\n",
       "      <th>totalNonCurrentLiabilities</th>\n",
       "      <td>39820000000</td>\n",
       "      <td>43379000000</td>\n",
       "      <td>40238000000</td>\n",
       "      <td>29246000000</td>\n",
       "    </tr>\n",
       "    <tr>\n",
       "      <th>otherLiabilities</th>\n",
       "      <td>0</td>\n",
       "      <td>0</td>\n",
       "      <td>0</td>\n",
       "      <td>0</td>\n",
       "    </tr>\n",
       "    <tr>\n",
       "      <th>capitalLeaseObligations</th>\n",
       "      <td>12501000000</td>\n",
       "      <td>15551000000</td>\n",
       "      <td>12840000000</td>\n",
       "      <td>12009000000</td>\n",
       "    </tr>\n",
       "    <tr>\n",
       "      <th>totalLiabilities</th>\n",
       "      <td>109120000000</td>\n",
       "      <td>107633000000</td>\n",
       "      <td>97072000000</td>\n",
       "      <td>74467000000</td>\n",
       "    </tr>\n",
       "    <tr>\n",
       "      <th>preferredStock</th>\n",
       "      <td>0</td>\n",
       "      <td>0</td>\n",
       "      <td>0</td>\n",
       "      <td>0</td>\n",
       "    </tr>\n",
       "    <tr>\n",
       "      <th>commonStock</th>\n",
       "      <td>0</td>\n",
       "      <td>61774000000</td>\n",
       "      <td>58510000000</td>\n",
       "      <td>50552000000</td>\n",
       "    </tr>\n",
       "    <tr>\n",
       "      <th>retainedEarnings</th>\n",
       "      <td>195563000000</td>\n",
       "      <td>191484000000</td>\n",
       "      <td>163401000000</td>\n",
       "      <td>152122000000</td>\n",
       "    </tr>\n",
       "    <tr>\n",
       "      <th>accumulatedOtherComprehensiveIncomeLoss</th>\n",
       "      <td>-7603000000</td>\n",
       "      <td>-1623000000</td>\n",
       "      <td>633000000</td>\n",
       "      <td>-1232000000</td>\n",
       "    </tr>\n",
       "    <tr>\n",
       "      <th>othertotalStockholdersEquity</th>\n",
       "      <td>68184000000</td>\n",
       "      <td>0</td>\n",
       "      <td>0</td>\n",
       "      <td>0</td>\n",
       "    </tr>\n",
       "    <tr>\n",
       "      <th>totalStockholdersEquity</th>\n",
       "      <td>256144000000</td>\n",
       "      <td>251635000000</td>\n",
       "      <td>222544000000</td>\n",
       "      <td>201442000000</td>\n",
       "    </tr>\n",
       "    <tr>\n",
       "      <th>totalEquity</th>\n",
       "      <td>256144000000</td>\n",
       "      <td>251635000000</td>\n",
       "      <td>222544000000</td>\n",
       "      <td>201442000000</td>\n",
       "    </tr>\n",
       "    <tr>\n",
       "      <th>totalLiabilitiesAndStockholdersEquity</th>\n",
       "      <td>365264000000</td>\n",
       "      <td>359268000000</td>\n",
       "      <td>319616000000</td>\n",
       "      <td>275909000000</td>\n",
       "    </tr>\n",
       "    <tr>\n",
       "      <th>minorityInterest</th>\n",
       "      <td>0</td>\n",
       "      <td>0</td>\n",
       "      <td>0</td>\n",
       "      <td>0</td>\n",
       "    </tr>\n",
       "    <tr>\n",
       "      <th>totalLiabilitiesAndTotalEquity</th>\n",
       "      <td>365264000000</td>\n",
       "      <td>359268000000</td>\n",
       "      <td>319616000000</td>\n",
       "      <td>275909000000</td>\n",
       "    </tr>\n",
       "    <tr>\n",
       "      <th>totalInvestments</th>\n",
       "      <td>122375000000</td>\n",
       "      <td>148253000000</td>\n",
       "      <td>130932000000</td>\n",
       "      <td>114255000000</td>\n",
       "    </tr>\n",
       "    <tr>\n",
       "      <th>totalDebt</th>\n",
       "      <td>27202000000</td>\n",
       "      <td>28395000000</td>\n",
       "      <td>26772000000</td>\n",
       "      <td>15967000000</td>\n",
       "    </tr>\n",
       "    <tr>\n",
       "      <th>netDebt</th>\n",
       "      <td>5323000000</td>\n",
       "      <td>7450000000</td>\n",
       "      <td>307000000</td>\n",
       "      <td>-2531000000</td>\n",
       "    </tr>\n",
       "  </tbody>\n",
       "</table>\n",
       "</div>"
      ],
      "text/plain": [
       "                                                    0             1  \\\n",
       "date                                       2022-12-31    2021-12-31   \n",
       "cashAndCashEquivalents                    21879000000   20945000000   \n",
       "shortTermInvestments                      91883000000  118704000000   \n",
       "cashAndShortTermInvestments              113762000000  139649000000   \n",
       "netReceivables                            40258000000   40270000000   \n",
       "inventory                                  2670000000    1170000000   \n",
       "otherCurrentAssets                         8105000000    7054000000   \n",
       "totalCurrentAssets                       164795000000  188143000000   \n",
       "propertyPlantEquipmentNet                127049000000  110557000000   \n",
       "goodwill                                  28960000000   22956000000   \n",
       "intangibleAssets                           2084000000    1417000000   \n",
       "goodwillAndIntangibleAssets               31044000000   24373000000   \n",
       "longTermInvestments                       30492000000   29549000000   \n",
       "taxAssets                                  5261000000    1284000000   \n",
       "otherNonCurrentAssets                      6623000000    5361000000   \n",
       "totalNonCurrentAssets                    200469000000  171124000000   \n",
       "otherAssets                                         0       1000000   \n",
       "totalAssets                              365264000000  359268000000   \n",
       "accountPayables                            5128000000    6037000000   \n",
       "shortTermDebt                                       0    2189000000   \n",
       "taxPayables                                9258000000     808000000   \n",
       "deferredRevenue                            3908000000    3288000000   \n",
       "otherCurrentLiabilities                   51006000000   51932000000   \n",
       "totalCurrentLiabilities                   69300000000   64254000000   \n",
       "longTermDebt                              27202000000   26206000000   \n",
       "deferredRevenueNonCurrent                   599000000     535000000   \n",
       "deferredTaxLiabilitiesNonCurrent            514000000    5257000000   \n",
       "otherNonCurrentLiabilities                11505000000   11381000000   \n",
       "totalNonCurrentLiabilities                39820000000   43379000000   \n",
       "otherLiabilities                                    0             0   \n",
       "capitalLeaseObligations                   12501000000   15551000000   \n",
       "totalLiabilities                         109120000000  107633000000   \n",
       "preferredStock                                      0             0   \n",
       "commonStock                                         0   61774000000   \n",
       "retainedEarnings                         195563000000  191484000000   \n",
       "accumulatedOtherComprehensiveIncomeLoss   -7603000000   -1623000000   \n",
       "othertotalStockholdersEquity              68184000000             0   \n",
       "totalStockholdersEquity                  256144000000  251635000000   \n",
       "totalEquity                              256144000000  251635000000   \n",
       "totalLiabilitiesAndStockholdersEquity    365264000000  359268000000   \n",
       "minorityInterest                                    0             0   \n",
       "totalLiabilitiesAndTotalEquity           365264000000  359268000000   \n",
       "totalInvestments                         122375000000  148253000000   \n",
       "totalDebt                                 27202000000   28395000000   \n",
       "netDebt                                    5323000000    7450000000   \n",
       "\n",
       "                                                    2             3  \n",
       "date                                       2020-12-31    2019-12-31  \n",
       "cashAndCashEquivalents                    26465000000   18498000000  \n",
       "shortTermInvestments                     110229000000  101177000000  \n",
       "cashAndShortTermInvestments              136694000000  119675000000  \n",
       "netReceivables                            31384000000   27492000000  \n",
       "inventory                                   728000000     999000000  \n",
       "otherCurrentAssets                         5490000000    4412000000  \n",
       "totalCurrentAssets                       174296000000  152578000000  \n",
       "propertyPlantEquipmentNet                 96960000000   84587000000  \n",
       "goodwill                                  21175000000   20624000000  \n",
       "intangibleAssets                           1445000000    1979000000  \n",
       "goodwillAndIntangibleAssets               22620000000   22603000000  \n",
       "longTermInvestments                       20703000000   13078000000  \n",
       "taxAssets                                  1084000000     721000000  \n",
       "otherNonCurrentAssets                      3953000000    2342000000  \n",
       "totalNonCurrentAssets                    145320000000  123331000000  \n",
       "otherAssets                                         0             0  \n",
       "totalAssets                              319616000000  275909000000  \n",
       "accountPayables                            5589000000    5561000000  \n",
       "shortTermDebt                              1694000000    1199000000  \n",
       "taxPayables                                1485000000     274000000  \n",
       "deferredRevenue                            2543000000    1908000000  \n",
       "otherCurrentLiabilities                   45523000000   36279000000  \n",
       "totalCurrentLiabilities                   56834000000   45221000000  \n",
       "longTermDebt                              25078000000   14768000000  \n",
       "deferredRevenueNonCurrent                   481000000     358000000  \n",
       "deferredTaxLiabilitiesNonCurrent           3561000000    1701000000  \n",
       "otherNonCurrentLiabilities                11118000000   12419000000  \n",
       "totalNonCurrentLiabilities                40238000000   29246000000  \n",
       "otherLiabilities                                    0             0  \n",
       "capitalLeaseObligations                   12840000000   12009000000  \n",
       "totalLiabilities                          97072000000   74467000000  \n",
       "preferredStock                                      0             0  \n",
       "commonStock                               58510000000   50552000000  \n",
       "retainedEarnings                         163401000000  152122000000  \n",
       "accumulatedOtherComprehensiveIncomeLoss     633000000   -1232000000  \n",
       "othertotalStockholdersEquity                        0             0  \n",
       "totalStockholdersEquity                  222544000000  201442000000  \n",
       "totalEquity                              222544000000  201442000000  \n",
       "totalLiabilitiesAndStockholdersEquity    319616000000  275909000000  \n",
       "minorityInterest                                    0             0  \n",
       "totalLiabilitiesAndTotalEquity           319616000000  275909000000  \n",
       "totalInvestments                         130932000000  114255000000  \n",
       "totalDebt                                 26772000000   15967000000  \n",
       "netDebt                                     307000000   -2531000000  "
      ]
     },
     "execution_count": 25,
     "metadata": {},
     "output_type": "execute_result"
    }
   ],
   "source": [
    "# transposing the balance sheet\n",
    "BS_copy.transpose()"
   ]
  },
  {
   "cell_type": "code",
   "execution_count": 201,
   "id": "5fb4b653",
   "metadata": {},
   "outputs": [
    {
     "data": {
      "text/html": [
       "<div>\n",
       "<style scoped>\n",
       "    .dataframe tbody tr th:only-of-type {\n",
       "        vertical-align: middle;\n",
       "    }\n",
       "\n",
       "    .dataframe tbody tr th {\n",
       "        vertical-align: top;\n",
       "    }\n",
       "\n",
       "    .dataframe thead th {\n",
       "        text-align: right;\n",
       "    }\n",
       "</style>\n",
       "<table border=\"1\" class=\"dataframe\">\n",
       "  <thead>\n",
       "    <tr style=\"text-align: right;\">\n",
       "      <th></th>\n",
       "      <th>date</th>\n",
       "    </tr>\n",
       "  </thead>\n",
       "  <tbody>\n",
       "    <tr>\n",
       "      <th>0</th>\n",
       "      <td>2022</td>\n",
       "    </tr>\n",
       "    <tr>\n",
       "      <th>1</th>\n",
       "      <td>2021</td>\n",
       "    </tr>\n",
       "    <tr>\n",
       "      <th>2</th>\n",
       "      <td>2020</td>\n",
       "    </tr>\n",
       "    <tr>\n",
       "      <th>3</th>\n",
       "      <td>2019</td>\n",
       "    </tr>\n",
       "  </tbody>\n",
       "</table>\n",
       "</div>"
      ],
      "text/plain": [
       "   date\n",
       "0  2022\n",
       "1  2021\n",
       "2  2020\n",
       "3  2019"
      ]
     },
     "execution_count": 201,
     "metadata": {},
     "output_type": "execute_result"
    }
   ],
   "source": [
    "#converting the date column to date format\n",
    "BS_copy['date'] = pd.to_datetime(BS_copy['date'])\n",
    "BS_copy['date'] = BS_copy['date'].dt.strftime('%Y')\n",
    "\n",
    "# Creating a data frame where all our data would be saved\n",
    "BS_analysis= pd.DataFrame(BS_copy['date'])\n",
    "BS_analysis\n"
   ]
  },
  {
   "cell_type": "code",
   "execution_count": 203,
   "id": "5128b6cb",
   "metadata": {},
   "outputs": [
    {
     "data": {
      "text/html": [
       "<div>\n",
       "<style scoped>\n",
       "    .dataframe tbody tr th:only-of-type {\n",
       "        vertical-align: middle;\n",
       "    }\n",
       "\n",
       "    .dataframe tbody tr th {\n",
       "        vertical-align: top;\n",
       "    }\n",
       "\n",
       "    .dataframe thead th {\n",
       "        text-align: right;\n",
       "    }\n",
       "</style>\n",
       "<table border=\"1\" class=\"dataframe\">\n",
       "  <thead>\n",
       "    <tr style=\"text-align: right;\">\n",
       "      <th></th>\n",
       "      <th>date</th>\n",
       "      <th>Working Capital</th>\n",
       "    </tr>\n",
       "  </thead>\n",
       "  <tbody>\n",
       "    <tr>\n",
       "      <th>0</th>\n",
       "      <td>2022</td>\n",
       "      <td>95495000000</td>\n",
       "    </tr>\n",
       "    <tr>\n",
       "      <th>1</th>\n",
       "      <td>2021</td>\n",
       "      <td>123889000000</td>\n",
       "    </tr>\n",
       "    <tr>\n",
       "      <th>2</th>\n",
       "      <td>2020</td>\n",
       "      <td>117462000000</td>\n",
       "    </tr>\n",
       "    <tr>\n",
       "      <th>3</th>\n",
       "      <td>2019</td>\n",
       "      <td>107357000000</td>\n",
       "    </tr>\n",
       "  </tbody>\n",
       "</table>\n",
       "</div>"
      ],
      "text/plain": [
       "   date  Working Capital\n",
       "0  2022      95495000000\n",
       "1  2021     123889000000\n",
       "2  2020     117462000000\n",
       "3  2019     107357000000"
      ]
     },
     "execution_count": 203,
     "metadata": {},
     "output_type": "execute_result"
    }
   ],
   "source": [
    "# SOlving for Working capital =  current assets - current liabilities\n",
    "Working_capital = BS_copy['totalCurrentAssets'] - BS_copy['totalCurrentLiabilities']\n",
    "\n",
    "#Storing working capital in our dataframe\n",
    "BS_analysis['Working Capital'] = Working_capital\n",
    "BS_analysis"
   ]
  },
  {
   "cell_type": "code",
   "execution_count": 204,
   "id": "b62d87a8",
   "metadata": {},
   "outputs": [
    {
     "data": {
      "text/html": [
       "<div>\n",
       "<style scoped>\n",
       "    .dataframe tbody tr th:only-of-type {\n",
       "        vertical-align: middle;\n",
       "    }\n",
       "\n",
       "    .dataframe tbody tr th {\n",
       "        vertical-align: top;\n",
       "    }\n",
       "\n",
       "    .dataframe thead th {\n",
       "        text-align: right;\n",
       "    }\n",
       "</style>\n",
       "<table border=\"1\" class=\"dataframe\">\n",
       "  <thead>\n",
       "    <tr style=\"text-align: right;\">\n",
       "      <th></th>\n",
       "      <th>date</th>\n",
       "      <th>Working Capital</th>\n",
       "      <th>Current Ratio</th>\n",
       "    </tr>\n",
       "  </thead>\n",
       "  <tbody>\n",
       "    <tr>\n",
       "      <th>0</th>\n",
       "      <td>2022</td>\n",
       "      <td>95495000000</td>\n",
       "      <td>2.38</td>\n",
       "    </tr>\n",
       "    <tr>\n",
       "      <th>1</th>\n",
       "      <td>2021</td>\n",
       "      <td>123889000000</td>\n",
       "      <td>2.93</td>\n",
       "    </tr>\n",
       "    <tr>\n",
       "      <th>2</th>\n",
       "      <td>2020</td>\n",
       "      <td>117462000000</td>\n",
       "      <td>3.07</td>\n",
       "    </tr>\n",
       "    <tr>\n",
       "      <th>3</th>\n",
       "      <td>2019</td>\n",
       "      <td>107357000000</td>\n",
       "      <td>3.37</td>\n",
       "    </tr>\n",
       "  </tbody>\n",
       "</table>\n",
       "</div>"
      ],
      "text/plain": [
       "   date  Working Capital  Current Ratio\n",
       "0  2022      95495000000           2.38\n",
       "1  2021     123889000000           2.93\n",
       "2  2020     117462000000           3.07\n",
       "3  2019     107357000000           3.37"
      ]
     },
     "execution_count": 204,
     "metadata": {},
     "output_type": "execute_result"
    }
   ],
   "source": [
    "#Solving for Working Current Ratio = Current Assets ÷ Current Liabilities\n",
    "Current_ratio =  (BS_copy['totalCurrentAssets']/BS_copy['totalCurrentLiabilities']).round(2)\n",
    "\n",
    "#Storing working current ratio in our dataframe\n",
    "BS_analysis['Current Ratio']= Current_ratio\n",
    "BS_analysis"
   ]
  },
  {
   "cell_type": "code",
   "execution_count": 205,
   "id": "986ee09f",
   "metadata": {},
   "outputs": [
    {
     "data": {
      "text/html": [
       "<div>\n",
       "<style scoped>\n",
       "    .dataframe tbody tr th:only-of-type {\n",
       "        vertical-align: middle;\n",
       "    }\n",
       "\n",
       "    .dataframe tbody tr th {\n",
       "        vertical-align: top;\n",
       "    }\n",
       "\n",
       "    .dataframe thead th {\n",
       "        text-align: right;\n",
       "    }\n",
       "</style>\n",
       "<table border=\"1\" class=\"dataframe\">\n",
       "  <thead>\n",
       "    <tr style=\"text-align: right;\">\n",
       "      <th></th>\n",
       "      <th>date</th>\n",
       "      <th>Working Capital</th>\n",
       "      <th>Current Ratio</th>\n",
       "      <th>Quick Ratio</th>\n",
       "    </tr>\n",
       "  </thead>\n",
       "  <tbody>\n",
       "    <tr>\n",
       "      <th>0</th>\n",
       "      <td>2022</td>\n",
       "      <td>95495000000</td>\n",
       "      <td>2.38</td>\n",
       "      <td>2.34</td>\n",
       "    </tr>\n",
       "    <tr>\n",
       "      <th>1</th>\n",
       "      <td>2021</td>\n",
       "      <td>123889000000</td>\n",
       "      <td>2.93</td>\n",
       "      <td>2.91</td>\n",
       "    </tr>\n",
       "    <tr>\n",
       "      <th>2</th>\n",
       "      <td>2020</td>\n",
       "      <td>117462000000</td>\n",
       "      <td>3.07</td>\n",
       "      <td>3.05</td>\n",
       "    </tr>\n",
       "    <tr>\n",
       "      <th>3</th>\n",
       "      <td>2019</td>\n",
       "      <td>107357000000</td>\n",
       "      <td>3.37</td>\n",
       "      <td>3.35</td>\n",
       "    </tr>\n",
       "  </tbody>\n",
       "</table>\n",
       "</div>"
      ],
      "text/plain": [
       "   date  Working Capital  Current Ratio  Quick Ratio\n",
       "0  2022      95495000000           2.38         2.34\n",
       "1  2021     123889000000           2.93         2.91\n",
       "2  2020     117462000000           3.07         3.05\n",
       "3  2019     107357000000           3.37         3.35"
      ]
     },
     "execution_count": 205,
     "metadata": {},
     "output_type": "execute_result"
    }
   ],
   "source": [
    "#Solving for Quick Ratio = (Current Assets-inventories)/current liabilities\n",
    "Quick_assets = BS_copy['totalCurrentAssets'] - BS_copy['inventory']\n",
    "Quick_ratio = (Quick_assets/BS_copy['totalCurrentLiabilities']).round(2)\n",
    "\n",
    "#Storing Quick assets in our dataframe\n",
    "BS_analysis['Quick Ratio']= Quick_ratio\n",
    "BS_analysis"
   ]
  },
  {
   "cell_type": "code",
   "execution_count": 206,
   "id": "7e3b9452",
   "metadata": {},
   "outputs": [
    {
     "data": {
      "text/html": [
       "<div>\n",
       "<style scoped>\n",
       "    .dataframe tbody tr th:only-of-type {\n",
       "        vertical-align: middle;\n",
       "    }\n",
       "\n",
       "    .dataframe tbody tr th {\n",
       "        vertical-align: top;\n",
       "    }\n",
       "\n",
       "    .dataframe thead th {\n",
       "        text-align: right;\n",
       "    }\n",
       "</style>\n",
       "<table border=\"1\" class=\"dataframe\">\n",
       "  <thead>\n",
       "    <tr style=\"text-align: right;\">\n",
       "      <th></th>\n",
       "      <th>date</th>\n",
       "      <th>Working Capital</th>\n",
       "      <th>Current Ratio</th>\n",
       "      <th>Quick Ratio</th>\n",
       "      <th>Debt to Equity Ratio</th>\n",
       "    </tr>\n",
       "  </thead>\n",
       "  <tbody>\n",
       "    <tr>\n",
       "      <th>0</th>\n",
       "      <td>2022</td>\n",
       "      <td>95495000000</td>\n",
       "      <td>2.38</td>\n",
       "      <td>2.34</td>\n",
       "      <td>0.43</td>\n",
       "    </tr>\n",
       "    <tr>\n",
       "      <th>1</th>\n",
       "      <td>2021</td>\n",
       "      <td>123889000000</td>\n",
       "      <td>2.93</td>\n",
       "      <td>2.91</td>\n",
       "      <td>0.43</td>\n",
       "    </tr>\n",
       "    <tr>\n",
       "      <th>2</th>\n",
       "      <td>2020</td>\n",
       "      <td>117462000000</td>\n",
       "      <td>3.07</td>\n",
       "      <td>3.05</td>\n",
       "      <td>0.44</td>\n",
       "    </tr>\n",
       "    <tr>\n",
       "      <th>3</th>\n",
       "      <td>2019</td>\n",
       "      <td>107357000000</td>\n",
       "      <td>3.37</td>\n",
       "      <td>3.35</td>\n",
       "      <td>0.37</td>\n",
       "    </tr>\n",
       "  </tbody>\n",
       "</table>\n",
       "</div>"
      ],
      "text/plain": [
       "   date  Working Capital  Current Ratio  Quick Ratio  Debt to Equity Ratio\n",
       "0  2022      95495000000           2.38         2.34                  0.43\n",
       "1  2021     123889000000           2.93         2.91                  0.43\n",
       "2  2020     117462000000           3.07         3.05                  0.44\n",
       "3  2019     107357000000           3.37         3.35                  0.37"
      ]
     },
     "execution_count": 206,
     "metadata": {},
     "output_type": "execute_result"
    }
   ],
   "source": [
    "#Solving for Debt to Equity Ratio = Total liabilities/shareholders Equity\n",
    "Equity_ratio = (BS_copy['totalLiabilities']/BS_copy['totalStockholdersEquity']).round(2)\n",
    "\n",
    "##Storing Debt to equity ratio in our dataframe\n",
    "BS_analysis['Debt to Equity Ratio'] = Equity_ratio\n",
    "BS_analysis"
   ]
  },
  {
   "cell_type": "code",
   "execution_count": 207,
   "id": "9466a4a1",
   "metadata": {},
   "outputs": [
    {
     "data": {
      "text/html": [
       "<div>\n",
       "<style scoped>\n",
       "    .dataframe tbody tr th:only-of-type {\n",
       "        vertical-align: middle;\n",
       "    }\n",
       "\n",
       "    .dataframe tbody tr th {\n",
       "        vertical-align: top;\n",
       "    }\n",
       "\n",
       "    .dataframe thead th {\n",
       "        text-align: right;\n",
       "    }\n",
       "</style>\n",
       "<table border=\"1\" class=\"dataframe\">\n",
       "  <thead>\n",
       "    <tr style=\"text-align: right;\">\n",
       "      <th></th>\n",
       "      <th>date</th>\n",
       "      <th>Working Capital</th>\n",
       "      <th>Current Ratio</th>\n",
       "      <th>Quick Ratio</th>\n",
       "      <th>Debt to Equity Ratio</th>\n",
       "      <th>Inventory Turnover</th>\n",
       "    </tr>\n",
       "  </thead>\n",
       "  <tbody>\n",
       "    <tr>\n",
       "      <th>0</th>\n",
       "      <td>2022</td>\n",
       "      <td>95495000000</td>\n",
       "      <td>2.38</td>\n",
       "      <td>2.34</td>\n",
       "      <td>0.43</td>\n",
       "      <td>47.27</td>\n",
       "    </tr>\n",
       "    <tr>\n",
       "      <th>1</th>\n",
       "      <td>2021</td>\n",
       "      <td>123889000000</td>\n",
       "      <td>2.93</td>\n",
       "      <td>2.91</td>\n",
       "      <td>0.43</td>\n",
       "      <td>94.82</td>\n",
       "    </tr>\n",
       "    <tr>\n",
       "      <th>2</th>\n",
       "      <td>2020</td>\n",
       "      <td>117462000000</td>\n",
       "      <td>3.07</td>\n",
       "      <td>3.05</td>\n",
       "      <td>0.44</td>\n",
       "      <td>116.39</td>\n",
       "    </tr>\n",
       "    <tr>\n",
       "      <th>3</th>\n",
       "      <td>2019</td>\n",
       "      <td>107357000000</td>\n",
       "      <td>3.37</td>\n",
       "      <td>3.35</td>\n",
       "      <td>0.37</td>\n",
       "      <td>71.97</td>\n",
       "    </tr>\n",
       "  </tbody>\n",
       "</table>\n",
       "</div>"
      ],
      "text/plain": [
       "   date  Working Capital  Current Ratio  Quick Ratio  Debt to Equity Ratio  \\\n",
       "0  2022      95495000000           2.38         2.34                  0.43   \n",
       "1  2021     123889000000           2.93         2.91                  0.43   \n",
       "2  2020     117462000000           3.07         3.05                  0.44   \n",
       "3  2019     107357000000           3.37         3.35                  0.37   \n",
       "\n",
       "   Inventory Turnover  \n",
       "0               47.27  \n",
       "1               94.82  \n",
       "2              116.39  \n",
       "3               71.97  "
      ]
     },
     "execution_count": 207,
     "metadata": {},
     "output_type": "execute_result"
    }
   ],
   "source": [
    "# Solving for inventory turnover = Cost of Goods Sold ÷ Average Inventory for the Period\n",
    "# Cost of Goods sold is gotten from the income statement\n",
    "Inventory_turnover = (IS_copy['costOfRevenue']/ BS_copy['inventory']).round(2)\n",
    "\n",
    "#Storing working Inventory turnover in our dataframe\n",
    "BS_analysis['Inventory Turnover']= Inventory_turnover\n",
    "BS_analysis"
   ]
  },
  {
   "cell_type": "code",
   "execution_count": 213,
   "id": "f7719ed5",
   "metadata": {},
   "outputs": [
    {
     "data": {
      "text/html": [
       "<div>\n",
       "<style scoped>\n",
       "    .dataframe tbody tr th:only-of-type {\n",
       "        vertical-align: middle;\n",
       "    }\n",
       "\n",
       "    .dataframe tbody tr th {\n",
       "        vertical-align: top;\n",
       "    }\n",
       "\n",
       "    .dataframe thead th {\n",
       "        text-align: right;\n",
       "    }\n",
       "</style>\n",
       "<table border=\"1\" class=\"dataframe\">\n",
       "  <thead>\n",
       "    <tr style=\"text-align: right;\">\n",
       "      <th></th>\n",
       "      <th>date</th>\n",
       "      <th>Working Capital</th>\n",
       "      <th>Current Ratio</th>\n",
       "      <th>Quick Ratio</th>\n",
       "      <th>Debt to Equity Ratio</th>\n",
       "      <th>Inventory Turnover</th>\n",
       "      <th>Debts to Assets Ratio</th>\n",
       "      <th>Return on Assets</th>\n",
       "    </tr>\n",
       "  </thead>\n",
       "  <tbody>\n",
       "    <tr>\n",
       "      <th>0</th>\n",
       "      <td>2022</td>\n",
       "      <td>95495000000</td>\n",
       "      <td>2.38</td>\n",
       "      <td>2.34</td>\n",
       "      <td>0.43</td>\n",
       "      <td>47.27</td>\n",
       "      <td>0.30</td>\n",
       "      <td>0.16</td>\n",
       "    </tr>\n",
       "    <tr>\n",
       "      <th>1</th>\n",
       "      <td>2021</td>\n",
       "      <td>123889000000</td>\n",
       "      <td>2.93</td>\n",
       "      <td>2.91</td>\n",
       "      <td>0.43</td>\n",
       "      <td>94.82</td>\n",
       "      <td>0.30</td>\n",
       "      <td>0.21</td>\n",
       "    </tr>\n",
       "    <tr>\n",
       "      <th>2</th>\n",
       "      <td>2020</td>\n",
       "      <td>117462000000</td>\n",
       "      <td>3.07</td>\n",
       "      <td>3.05</td>\n",
       "      <td>0.44</td>\n",
       "      <td>116.39</td>\n",
       "      <td>0.30</td>\n",
       "      <td>0.13</td>\n",
       "    </tr>\n",
       "    <tr>\n",
       "      <th>3</th>\n",
       "      <td>2019</td>\n",
       "      <td>107357000000</td>\n",
       "      <td>3.37</td>\n",
       "      <td>3.35</td>\n",
       "      <td>0.37</td>\n",
       "      <td>71.97</td>\n",
       "      <td>0.27</td>\n",
       "      <td>0.12</td>\n",
       "    </tr>\n",
       "  </tbody>\n",
       "</table>\n",
       "</div>"
      ],
      "text/plain": [
       "   date  Working Capital  Current Ratio  Quick Ratio  Debt to Equity Ratio  \\\n",
       "0  2022      95495000000           2.38         2.34                  0.43   \n",
       "1  2021     123889000000           2.93         2.91                  0.43   \n",
       "2  2020     117462000000           3.07         3.05                  0.44   \n",
       "3  2019     107357000000           3.37         3.35                  0.37   \n",
       "\n",
       "   Inventory Turnover  Debts to Assets Ratio  Return on Assets  \n",
       "0               47.27                   0.30              0.16  \n",
       "1               94.82                   0.30              0.21  \n",
       "2              116.39                   0.30              0.13  \n",
       "3               71.97                   0.27              0.12  "
      ]
     },
     "execution_count": 213,
     "metadata": {},
     "output_type": "execute_result"
    }
   ],
   "source": [
    "# Solving for Debt to Assets ratio= Total liabilities/Total assets\n",
    "Assets_ratio= (BS_copy['totalLiabilities']/BS_copy['totalAssets']).round(2)\n",
    "\n",
    "#Storing Assets ratio in our dataframe\n",
    "BS_analysis['Debts to Assets Ratio'] = Assets_ratio\n",
    "BS_analysis"
   ]
  },
  {
   "cell_type": "code",
   "execution_count": 210,
   "id": "fe21c212",
   "metadata": {},
   "outputs": [
    {
     "data": {
      "text/html": [
       "<div>\n",
       "<style scoped>\n",
       "    .dataframe tbody tr th:only-of-type {\n",
       "        vertical-align: middle;\n",
       "    }\n",
       "\n",
       "    .dataframe tbody tr th {\n",
       "        vertical-align: top;\n",
       "    }\n",
       "\n",
       "    .dataframe thead th {\n",
       "        text-align: right;\n",
       "    }\n",
       "</style>\n",
       "<table border=\"1\" class=\"dataframe\">\n",
       "  <thead>\n",
       "    <tr style=\"text-align: right;\">\n",
       "      <th></th>\n",
       "      <th>date</th>\n",
       "      <th>Working Capital</th>\n",
       "      <th>Current Ratio</th>\n",
       "      <th>Quick Ratio</th>\n",
       "      <th>Debt to Equity Ratio</th>\n",
       "      <th>Inventory Turnover</th>\n",
       "      <th>Debts to Assets Ratio</th>\n",
       "      <th>Return on Assets</th>\n",
       "    </tr>\n",
       "  </thead>\n",
       "  <tbody>\n",
       "    <tr>\n",
       "      <th>0</th>\n",
       "      <td>2022</td>\n",
       "      <td>95495000000</td>\n",
       "      <td>2.38</td>\n",
       "      <td>2.34</td>\n",
       "      <td>0.43</td>\n",
       "      <td>47.27</td>\n",
       "      <td>0.30</td>\n",
       "      <td>0.16</td>\n",
       "    </tr>\n",
       "    <tr>\n",
       "      <th>1</th>\n",
       "      <td>2021</td>\n",
       "      <td>123889000000</td>\n",
       "      <td>2.93</td>\n",
       "      <td>2.91</td>\n",
       "      <td>0.43</td>\n",
       "      <td>94.82</td>\n",
       "      <td>0.30</td>\n",
       "      <td>0.21</td>\n",
       "    </tr>\n",
       "    <tr>\n",
       "      <th>2</th>\n",
       "      <td>2020</td>\n",
       "      <td>117462000000</td>\n",
       "      <td>3.07</td>\n",
       "      <td>3.05</td>\n",
       "      <td>0.44</td>\n",
       "      <td>116.39</td>\n",
       "      <td>0.30</td>\n",
       "      <td>0.13</td>\n",
       "    </tr>\n",
       "    <tr>\n",
       "      <th>3</th>\n",
       "      <td>2019</td>\n",
       "      <td>107357000000</td>\n",
       "      <td>3.37</td>\n",
       "      <td>3.35</td>\n",
       "      <td>0.37</td>\n",
       "      <td>71.97</td>\n",
       "      <td>0.27</td>\n",
       "      <td>0.12</td>\n",
       "    </tr>\n",
       "  </tbody>\n",
       "</table>\n",
       "</div>"
      ],
      "text/plain": [
       "   date  Working Capital  Current Ratio  Quick Ratio  Debt to Equity Ratio  \\\n",
       "0  2022      95495000000           2.38         2.34                  0.43   \n",
       "1  2021     123889000000           2.93         2.91                  0.43   \n",
       "2  2020     117462000000           3.07         3.05                  0.44   \n",
       "3  2019     107357000000           3.37         3.35                  0.37   \n",
       "\n",
       "   Inventory Turnover  Debts to Assets Ratio  Return on Assets  \n",
       "0               47.27                   0.30              0.16  \n",
       "1               94.82                   0.30              0.21  \n",
       "2              116.39                   0.30              0.13  \n",
       "3               71.97                   0.27              0.12  "
      ]
     },
     "execution_count": 210,
     "metadata": {},
     "output_type": "execute_result"
    }
   ],
   "source": [
    "# Solving for Return on assets = Net income / Total assets\n",
    "# Net income is from the income statement\n",
    "Return_on_assets = (IS_copy['netIncome']/BS_copy['totalAssets']).round(2)\n",
    "\n",
    "#Storing Return on assets in our dataframe\n",
    "BS_analysis['Return on Assets'] = Return_on_assets\n",
    "BS_analysis"
   ]
  },
  {
   "cell_type": "code",
   "execution_count": 137,
   "id": "4c95706a",
   "metadata": {},
   "outputs": [
    {
     "data": {
      "application/vnd.plotly.v1+json": {
       "config": {
        "plotlyServerURL": "https://plot.ly"
       },
       "data": [
        {
         "hovertemplate": "variable=Current Ratio<br>date=%{x}<br>value=%{y}<extra></extra>",
         "legendgroup": "Current Ratio",
         "line": {
          "color": "#636efa",
          "dash": "solid"
         },
         "marker": {
          "symbol": "circle"
         },
         "mode": "lines",
         "name": "Current Ratio",
         "orientation": "v",
         "showlegend": true,
         "type": "scatter",
         "x": [
          2022,
          2021,
          2020,
          2019
         ],
         "xaxis": "x",
         "y": [
          2.38,
          2.93,
          3.07,
          3.37
         ],
         "yaxis": "y"
        },
        {
         "hovertemplate": "variable=Quick Ratio<br>date=%{x}<br>value=%{y}<extra></extra>",
         "legendgroup": "Quick Ratio",
         "line": {
          "color": "#EF553B",
          "dash": "solid"
         },
         "marker": {
          "symbol": "circle"
         },
         "mode": "lines",
         "name": "Quick Ratio",
         "orientation": "v",
         "showlegend": true,
         "type": "scatter",
         "x": [
          2022,
          2021,
          2020,
          2019
         ],
         "xaxis": "x",
         "y": [
          2.34,
          2.91,
          3.05,
          3.35
         ],
         "yaxis": "y"
        },
        {
         "hovertemplate": "variable=Debt to Equity Ratio<br>date=%{x}<br>value=%{y}<extra></extra>",
         "legendgroup": "Debt to Equity Ratio",
         "line": {
          "color": "#00cc96",
          "dash": "solid"
         },
         "marker": {
          "symbol": "circle"
         },
         "mode": "lines",
         "name": "Debt to Equity Ratio",
         "orientation": "v",
         "showlegend": true,
         "type": "scatter",
         "x": [
          2022,
          2021,
          2020,
          2019
         ],
         "xaxis": "x",
         "y": [
          0.43,
          0.43,
          0.44,
          0.37
         ],
         "yaxis": "y"
        },
        {
         "hovertemplate": "variable=Debts to Assets Ratio<br>date=%{x}<br>value=%{y}<extra></extra>",
         "legendgroup": "Debts to Assets Ratio",
         "line": {
          "color": "#ab63fa",
          "dash": "solid"
         },
         "marker": {
          "symbol": "circle"
         },
         "mode": "lines",
         "name": "Debts to Assets Ratio",
         "orientation": "v",
         "showlegend": true,
         "type": "scatter",
         "x": [
          2022,
          2021,
          2020,
          2019
         ],
         "xaxis": "x",
         "y": [
          0.3,
          0.3,
          0.3,
          0.27
         ],
         "yaxis": "y"
        },
        {
         "hovertemplate": "variable=Return on Assets<br>date=%{x}<br>value=%{y}<extra></extra>",
         "legendgroup": "Return on Assets",
         "line": {
          "color": "#FFA15A",
          "dash": "solid"
         },
         "marker": {
          "symbol": "circle"
         },
         "mode": "lines",
         "name": "Return on Assets",
         "orientation": "v",
         "showlegend": true,
         "type": "scatter",
         "x": [
          2022,
          2021,
          2020,
          2019
         ],
         "xaxis": "x",
         "y": [
          0.16,
          0.21,
          0.13,
          0.12
         ],
         "yaxis": "y"
        }
       ],
       "layout": {
        "legend": {
         "title": {
          "text": "variable"
         },
         "tracegroupgap": 0
        },
        "margin": {
         "t": 60
        },
        "template": {
         "data": {
          "bar": [
           {
            "error_x": {
             "color": "#2a3f5f"
            },
            "error_y": {
             "color": "#2a3f5f"
            },
            "marker": {
             "line": {
              "color": "#E5ECF6",
              "width": 0.5
             },
             "pattern": {
              "fillmode": "overlay",
              "size": 10,
              "solidity": 0.2
             }
            },
            "type": "bar"
           }
          ],
          "barpolar": [
           {
            "marker": {
             "line": {
              "color": "#E5ECF6",
              "width": 0.5
             },
             "pattern": {
              "fillmode": "overlay",
              "size": 10,
              "solidity": 0.2
             }
            },
            "type": "barpolar"
           }
          ],
          "carpet": [
           {
            "aaxis": {
             "endlinecolor": "#2a3f5f",
             "gridcolor": "white",
             "linecolor": "white",
             "minorgridcolor": "white",
             "startlinecolor": "#2a3f5f"
            },
            "baxis": {
             "endlinecolor": "#2a3f5f",
             "gridcolor": "white",
             "linecolor": "white",
             "minorgridcolor": "white",
             "startlinecolor": "#2a3f5f"
            },
            "type": "carpet"
           }
          ],
          "choropleth": [
           {
            "colorbar": {
             "outlinewidth": 0,
             "ticks": ""
            },
            "type": "choropleth"
           }
          ],
          "contour": [
           {
            "colorbar": {
             "outlinewidth": 0,
             "ticks": ""
            },
            "colorscale": [
             [
              0,
              "#0d0887"
             ],
             [
              0.1111111111111111,
              "#46039f"
             ],
             [
              0.2222222222222222,
              "#7201a8"
             ],
             [
              0.3333333333333333,
              "#9c179e"
             ],
             [
              0.4444444444444444,
              "#bd3786"
             ],
             [
              0.5555555555555556,
              "#d8576b"
             ],
             [
              0.6666666666666666,
              "#ed7953"
             ],
             [
              0.7777777777777778,
              "#fb9f3a"
             ],
             [
              0.8888888888888888,
              "#fdca26"
             ],
             [
              1,
              "#f0f921"
             ]
            ],
            "type": "contour"
           }
          ],
          "contourcarpet": [
           {
            "colorbar": {
             "outlinewidth": 0,
             "ticks": ""
            },
            "type": "contourcarpet"
           }
          ],
          "heatmap": [
           {
            "colorbar": {
             "outlinewidth": 0,
             "ticks": ""
            },
            "colorscale": [
             [
              0,
              "#0d0887"
             ],
             [
              0.1111111111111111,
              "#46039f"
             ],
             [
              0.2222222222222222,
              "#7201a8"
             ],
             [
              0.3333333333333333,
              "#9c179e"
             ],
             [
              0.4444444444444444,
              "#bd3786"
             ],
             [
              0.5555555555555556,
              "#d8576b"
             ],
             [
              0.6666666666666666,
              "#ed7953"
             ],
             [
              0.7777777777777778,
              "#fb9f3a"
             ],
             [
              0.8888888888888888,
              "#fdca26"
             ],
             [
              1,
              "#f0f921"
             ]
            ],
            "type": "heatmap"
           }
          ],
          "heatmapgl": [
           {
            "colorbar": {
             "outlinewidth": 0,
             "ticks": ""
            },
            "colorscale": [
             [
              0,
              "#0d0887"
             ],
             [
              0.1111111111111111,
              "#46039f"
             ],
             [
              0.2222222222222222,
              "#7201a8"
             ],
             [
              0.3333333333333333,
              "#9c179e"
             ],
             [
              0.4444444444444444,
              "#bd3786"
             ],
             [
              0.5555555555555556,
              "#d8576b"
             ],
             [
              0.6666666666666666,
              "#ed7953"
             ],
             [
              0.7777777777777778,
              "#fb9f3a"
             ],
             [
              0.8888888888888888,
              "#fdca26"
             ],
             [
              1,
              "#f0f921"
             ]
            ],
            "type": "heatmapgl"
           }
          ],
          "histogram": [
           {
            "marker": {
             "pattern": {
              "fillmode": "overlay",
              "size": 10,
              "solidity": 0.2
             }
            },
            "type": "histogram"
           }
          ],
          "histogram2d": [
           {
            "colorbar": {
             "outlinewidth": 0,
             "ticks": ""
            },
            "colorscale": [
             [
              0,
              "#0d0887"
             ],
             [
              0.1111111111111111,
              "#46039f"
             ],
             [
              0.2222222222222222,
              "#7201a8"
             ],
             [
              0.3333333333333333,
              "#9c179e"
             ],
             [
              0.4444444444444444,
              "#bd3786"
             ],
             [
              0.5555555555555556,
              "#d8576b"
             ],
             [
              0.6666666666666666,
              "#ed7953"
             ],
             [
              0.7777777777777778,
              "#fb9f3a"
             ],
             [
              0.8888888888888888,
              "#fdca26"
             ],
             [
              1,
              "#f0f921"
             ]
            ],
            "type": "histogram2d"
           }
          ],
          "histogram2dcontour": [
           {
            "colorbar": {
             "outlinewidth": 0,
             "ticks": ""
            },
            "colorscale": [
             [
              0,
              "#0d0887"
             ],
             [
              0.1111111111111111,
              "#46039f"
             ],
             [
              0.2222222222222222,
              "#7201a8"
             ],
             [
              0.3333333333333333,
              "#9c179e"
             ],
             [
              0.4444444444444444,
              "#bd3786"
             ],
             [
              0.5555555555555556,
              "#d8576b"
             ],
             [
              0.6666666666666666,
              "#ed7953"
             ],
             [
              0.7777777777777778,
              "#fb9f3a"
             ],
             [
              0.8888888888888888,
              "#fdca26"
             ],
             [
              1,
              "#f0f921"
             ]
            ],
            "type": "histogram2dcontour"
           }
          ],
          "mesh3d": [
           {
            "colorbar": {
             "outlinewidth": 0,
             "ticks": ""
            },
            "type": "mesh3d"
           }
          ],
          "parcoords": [
           {
            "line": {
             "colorbar": {
              "outlinewidth": 0,
              "ticks": ""
             }
            },
            "type": "parcoords"
           }
          ],
          "pie": [
           {
            "automargin": true,
            "type": "pie"
           }
          ],
          "scatter": [
           {
            "marker": {
             "colorbar": {
              "outlinewidth": 0,
              "ticks": ""
             }
            },
            "type": "scatter"
           }
          ],
          "scatter3d": [
           {
            "line": {
             "colorbar": {
              "outlinewidth": 0,
              "ticks": ""
             }
            },
            "marker": {
             "colorbar": {
              "outlinewidth": 0,
              "ticks": ""
             }
            },
            "type": "scatter3d"
           }
          ],
          "scattercarpet": [
           {
            "marker": {
             "colorbar": {
              "outlinewidth": 0,
              "ticks": ""
             }
            },
            "type": "scattercarpet"
           }
          ],
          "scattergeo": [
           {
            "marker": {
             "colorbar": {
              "outlinewidth": 0,
              "ticks": ""
             }
            },
            "type": "scattergeo"
           }
          ],
          "scattergl": [
           {
            "marker": {
             "colorbar": {
              "outlinewidth": 0,
              "ticks": ""
             }
            },
            "type": "scattergl"
           }
          ],
          "scattermapbox": [
           {
            "marker": {
             "colorbar": {
              "outlinewidth": 0,
              "ticks": ""
             }
            },
            "type": "scattermapbox"
           }
          ],
          "scatterpolar": [
           {
            "marker": {
             "colorbar": {
              "outlinewidth": 0,
              "ticks": ""
             }
            },
            "type": "scatterpolar"
           }
          ],
          "scatterpolargl": [
           {
            "marker": {
             "colorbar": {
              "outlinewidth": 0,
              "ticks": ""
             }
            },
            "type": "scatterpolargl"
           }
          ],
          "scatterternary": [
           {
            "marker": {
             "colorbar": {
              "outlinewidth": 0,
              "ticks": ""
             }
            },
            "type": "scatterternary"
           }
          ],
          "surface": [
           {
            "colorbar": {
             "outlinewidth": 0,
             "ticks": ""
            },
            "colorscale": [
             [
              0,
              "#0d0887"
             ],
             [
              0.1111111111111111,
              "#46039f"
             ],
             [
              0.2222222222222222,
              "#7201a8"
             ],
             [
              0.3333333333333333,
              "#9c179e"
             ],
             [
              0.4444444444444444,
              "#bd3786"
             ],
             [
              0.5555555555555556,
              "#d8576b"
             ],
             [
              0.6666666666666666,
              "#ed7953"
             ],
             [
              0.7777777777777778,
              "#fb9f3a"
             ],
             [
              0.8888888888888888,
              "#fdca26"
             ],
             [
              1,
              "#f0f921"
             ]
            ],
            "type": "surface"
           }
          ],
          "table": [
           {
            "cells": {
             "fill": {
              "color": "#EBF0F8"
             },
             "line": {
              "color": "white"
             }
            },
            "header": {
             "fill": {
              "color": "#C8D4E3"
             },
             "line": {
              "color": "white"
             }
            },
            "type": "table"
           }
          ]
         },
         "layout": {
          "annotationdefaults": {
           "arrowcolor": "#2a3f5f",
           "arrowhead": 0,
           "arrowwidth": 1
          },
          "autotypenumbers": "strict",
          "coloraxis": {
           "colorbar": {
            "outlinewidth": 0,
            "ticks": ""
           }
          },
          "colorscale": {
           "diverging": [
            [
             0,
             "#8e0152"
            ],
            [
             0.1,
             "#c51b7d"
            ],
            [
             0.2,
             "#de77ae"
            ],
            [
             0.3,
             "#f1b6da"
            ],
            [
             0.4,
             "#fde0ef"
            ],
            [
             0.5,
             "#f7f7f7"
            ],
            [
             0.6,
             "#e6f5d0"
            ],
            [
             0.7,
             "#b8e186"
            ],
            [
             0.8,
             "#7fbc41"
            ],
            [
             0.9,
             "#4d9221"
            ],
            [
             1,
             "#276419"
            ]
           ],
           "sequential": [
            [
             0,
             "#0d0887"
            ],
            [
             0.1111111111111111,
             "#46039f"
            ],
            [
             0.2222222222222222,
             "#7201a8"
            ],
            [
             0.3333333333333333,
             "#9c179e"
            ],
            [
             0.4444444444444444,
             "#bd3786"
            ],
            [
             0.5555555555555556,
             "#d8576b"
            ],
            [
             0.6666666666666666,
             "#ed7953"
            ],
            [
             0.7777777777777778,
             "#fb9f3a"
            ],
            [
             0.8888888888888888,
             "#fdca26"
            ],
            [
             1,
             "#f0f921"
            ]
           ],
           "sequentialminus": [
            [
             0,
             "#0d0887"
            ],
            [
             0.1111111111111111,
             "#46039f"
            ],
            [
             0.2222222222222222,
             "#7201a8"
            ],
            [
             0.3333333333333333,
             "#9c179e"
            ],
            [
             0.4444444444444444,
             "#bd3786"
            ],
            [
             0.5555555555555556,
             "#d8576b"
            ],
            [
             0.6666666666666666,
             "#ed7953"
            ],
            [
             0.7777777777777778,
             "#fb9f3a"
            ],
            [
             0.8888888888888888,
             "#fdca26"
            ],
            [
             1,
             "#f0f921"
            ]
           ]
          },
          "colorway": [
           "#636efa",
           "#EF553B",
           "#00cc96",
           "#ab63fa",
           "#FFA15A",
           "#19d3f3",
           "#FF6692",
           "#B6E880",
           "#FF97FF",
           "#FECB52"
          ],
          "font": {
           "color": "#2a3f5f"
          },
          "geo": {
           "bgcolor": "white",
           "lakecolor": "white",
           "landcolor": "#E5ECF6",
           "showlakes": true,
           "showland": true,
           "subunitcolor": "white"
          },
          "hoverlabel": {
           "align": "left"
          },
          "hovermode": "closest",
          "mapbox": {
           "style": "light"
          },
          "paper_bgcolor": "white",
          "plot_bgcolor": "#E5ECF6",
          "polar": {
           "angularaxis": {
            "gridcolor": "white",
            "linecolor": "white",
            "ticks": ""
           },
           "bgcolor": "#E5ECF6",
           "radialaxis": {
            "gridcolor": "white",
            "linecolor": "white",
            "ticks": ""
           }
          },
          "scene": {
           "xaxis": {
            "backgroundcolor": "#E5ECF6",
            "gridcolor": "white",
            "gridwidth": 2,
            "linecolor": "white",
            "showbackground": true,
            "ticks": "",
            "zerolinecolor": "white"
           },
           "yaxis": {
            "backgroundcolor": "#E5ECF6",
            "gridcolor": "white",
            "gridwidth": 2,
            "linecolor": "white",
            "showbackground": true,
            "ticks": "",
            "zerolinecolor": "white"
           },
           "zaxis": {
            "backgroundcolor": "#E5ECF6",
            "gridcolor": "white",
            "gridwidth": 2,
            "linecolor": "white",
            "showbackground": true,
            "ticks": "",
            "zerolinecolor": "white"
           }
          },
          "shapedefaults": {
           "line": {
            "color": "#2a3f5f"
           }
          },
          "ternary": {
           "aaxis": {
            "gridcolor": "white",
            "linecolor": "white",
            "ticks": ""
           },
           "baxis": {
            "gridcolor": "white",
            "linecolor": "white",
            "ticks": ""
           },
           "bgcolor": "#E5ECF6",
           "caxis": {
            "gridcolor": "white",
            "linecolor": "white",
            "ticks": ""
           }
          },
          "title": {
           "x": 0.05
          },
          "xaxis": {
           "automargin": true,
           "gridcolor": "white",
           "linecolor": "white",
           "ticks": "",
           "title": {
            "standoff": 15
           },
           "zerolinecolor": "white",
           "zerolinewidth": 2
          },
          "yaxis": {
           "automargin": true,
           "gridcolor": "white",
           "linecolor": "white",
           "ticks": "",
           "title": {
            "standoff": 15
           },
           "zerolinecolor": "white",
           "zerolinewidth": 2
          }
         }
        },
        "xaxis": {
         "anchor": "y",
         "domain": [
          0,
          1
         ],
         "title": {
          "text": "date"
         }
        },
        "yaxis": {
         "anchor": "x",
         "domain": [
          0,
          1
         ],
         "title": {
          "text": "value"
         }
        }
       }
      },
      "text/html": [
       "<div>                            <div id=\"ff2a718f-d960-4a28-80e9-6648567a2422\" class=\"plotly-graph-div\" style=\"height:525px; width:100%;\"></div>            <script type=\"text/javascript\">                require([\"plotly\"], function(Plotly) {                    window.PLOTLYENV=window.PLOTLYENV || {};                                    if (document.getElementById(\"ff2a718f-d960-4a28-80e9-6648567a2422\")) {                    Plotly.newPlot(                        \"ff2a718f-d960-4a28-80e9-6648567a2422\",                        [{\"hovertemplate\":\"variable=Current Ratio<br>date=%{x}<br>value=%{y}<extra></extra>\",\"legendgroup\":\"Current Ratio\",\"line\":{\"color\":\"#636efa\",\"dash\":\"solid\"},\"marker\":{\"symbol\":\"circle\"},\"mode\":\"lines\",\"name\":\"Current Ratio\",\"orientation\":\"v\",\"showlegend\":true,\"x\":[2022,2021,2020,2019],\"xaxis\":\"x\",\"y\":[2.38,2.93,3.07,3.37],\"yaxis\":\"y\",\"type\":\"scatter\"},{\"hovertemplate\":\"variable=Quick Ratio<br>date=%{x}<br>value=%{y}<extra></extra>\",\"legendgroup\":\"Quick Ratio\",\"line\":{\"color\":\"#EF553B\",\"dash\":\"solid\"},\"marker\":{\"symbol\":\"circle\"},\"mode\":\"lines\",\"name\":\"Quick Ratio\",\"orientation\":\"v\",\"showlegend\":true,\"x\":[2022,2021,2020,2019],\"xaxis\":\"x\",\"y\":[2.34,2.91,3.05,3.35],\"yaxis\":\"y\",\"type\":\"scatter\"},{\"hovertemplate\":\"variable=Debt to Equity Ratio<br>date=%{x}<br>value=%{y}<extra></extra>\",\"legendgroup\":\"Debt to Equity Ratio\",\"line\":{\"color\":\"#00cc96\",\"dash\":\"solid\"},\"marker\":{\"symbol\":\"circle\"},\"mode\":\"lines\",\"name\":\"Debt to Equity Ratio\",\"orientation\":\"v\",\"showlegend\":true,\"x\":[2022,2021,2020,2019],\"xaxis\":\"x\",\"y\":[0.43,0.43,0.44,0.37],\"yaxis\":\"y\",\"type\":\"scatter\"},{\"hovertemplate\":\"variable=Debts to Assets Ratio<br>date=%{x}<br>value=%{y}<extra></extra>\",\"legendgroup\":\"Debts to Assets Ratio\",\"line\":{\"color\":\"#ab63fa\",\"dash\":\"solid\"},\"marker\":{\"symbol\":\"circle\"},\"mode\":\"lines\",\"name\":\"Debts to Assets Ratio\",\"orientation\":\"v\",\"showlegend\":true,\"x\":[2022,2021,2020,2019],\"xaxis\":\"x\",\"y\":[0.3,0.3,0.3,0.27],\"yaxis\":\"y\",\"type\":\"scatter\"},{\"hovertemplate\":\"variable=Return on Assets<br>date=%{x}<br>value=%{y}<extra></extra>\",\"legendgroup\":\"Return on Assets\",\"line\":{\"color\":\"#FFA15A\",\"dash\":\"solid\"},\"marker\":{\"symbol\":\"circle\"},\"mode\":\"lines\",\"name\":\"Return on Assets\",\"orientation\":\"v\",\"showlegend\":true,\"x\":[2022,2021,2020,2019],\"xaxis\":\"x\",\"y\":[0.16,0.21,0.13,0.12],\"yaxis\":\"y\",\"type\":\"scatter\"}],                        {\"template\":{\"data\":{\"bar\":[{\"error_x\":{\"color\":\"#2a3f5f\"},\"error_y\":{\"color\":\"#2a3f5f\"},\"marker\":{\"line\":{\"color\":\"#E5ECF6\",\"width\":0.5},\"pattern\":{\"fillmode\":\"overlay\",\"size\":10,\"solidity\":0.2}},\"type\":\"bar\"}],\"barpolar\":[{\"marker\":{\"line\":{\"color\":\"#E5ECF6\",\"width\":0.5},\"pattern\":{\"fillmode\":\"overlay\",\"size\":10,\"solidity\":0.2}},\"type\":\"barpolar\"}],\"carpet\":[{\"aaxis\":{\"endlinecolor\":\"#2a3f5f\",\"gridcolor\":\"white\",\"linecolor\":\"white\",\"minorgridcolor\":\"white\",\"startlinecolor\":\"#2a3f5f\"},\"baxis\":{\"endlinecolor\":\"#2a3f5f\",\"gridcolor\":\"white\",\"linecolor\":\"white\",\"minorgridcolor\":\"white\",\"startlinecolor\":\"#2a3f5f\"},\"type\":\"carpet\"}],\"choropleth\":[{\"colorbar\":{\"outlinewidth\":0,\"ticks\":\"\"},\"type\":\"choropleth\"}],\"contour\":[{\"colorbar\":{\"outlinewidth\":0,\"ticks\":\"\"},\"colorscale\":[[0.0,\"#0d0887\"],[0.1111111111111111,\"#46039f\"],[0.2222222222222222,\"#7201a8\"],[0.3333333333333333,\"#9c179e\"],[0.4444444444444444,\"#bd3786\"],[0.5555555555555556,\"#d8576b\"],[0.6666666666666666,\"#ed7953\"],[0.7777777777777778,\"#fb9f3a\"],[0.8888888888888888,\"#fdca26\"],[1.0,\"#f0f921\"]],\"type\":\"contour\"}],\"contourcarpet\":[{\"colorbar\":{\"outlinewidth\":0,\"ticks\":\"\"},\"type\":\"contourcarpet\"}],\"heatmap\":[{\"colorbar\":{\"outlinewidth\":0,\"ticks\":\"\"},\"colorscale\":[[0.0,\"#0d0887\"],[0.1111111111111111,\"#46039f\"],[0.2222222222222222,\"#7201a8\"],[0.3333333333333333,\"#9c179e\"],[0.4444444444444444,\"#bd3786\"],[0.5555555555555556,\"#d8576b\"],[0.6666666666666666,\"#ed7953\"],[0.7777777777777778,\"#fb9f3a\"],[0.8888888888888888,\"#fdca26\"],[1.0,\"#f0f921\"]],\"type\":\"heatmap\"}],\"heatmapgl\":[{\"colorbar\":{\"outlinewidth\":0,\"ticks\":\"\"},\"colorscale\":[[0.0,\"#0d0887\"],[0.1111111111111111,\"#46039f\"],[0.2222222222222222,\"#7201a8\"],[0.3333333333333333,\"#9c179e\"],[0.4444444444444444,\"#bd3786\"],[0.5555555555555556,\"#d8576b\"],[0.6666666666666666,\"#ed7953\"],[0.7777777777777778,\"#fb9f3a\"],[0.8888888888888888,\"#fdca26\"],[1.0,\"#f0f921\"]],\"type\":\"heatmapgl\"}],\"histogram\":[{\"marker\":{\"pattern\":{\"fillmode\":\"overlay\",\"size\":10,\"solidity\":0.2}},\"type\":\"histogram\"}],\"histogram2d\":[{\"colorbar\":{\"outlinewidth\":0,\"ticks\":\"\"},\"colorscale\":[[0.0,\"#0d0887\"],[0.1111111111111111,\"#46039f\"],[0.2222222222222222,\"#7201a8\"],[0.3333333333333333,\"#9c179e\"],[0.4444444444444444,\"#bd3786\"],[0.5555555555555556,\"#d8576b\"],[0.6666666666666666,\"#ed7953\"],[0.7777777777777778,\"#fb9f3a\"],[0.8888888888888888,\"#fdca26\"],[1.0,\"#f0f921\"]],\"type\":\"histogram2d\"}],\"histogram2dcontour\":[{\"colorbar\":{\"outlinewidth\":0,\"ticks\":\"\"},\"colorscale\":[[0.0,\"#0d0887\"],[0.1111111111111111,\"#46039f\"],[0.2222222222222222,\"#7201a8\"],[0.3333333333333333,\"#9c179e\"],[0.4444444444444444,\"#bd3786\"],[0.5555555555555556,\"#d8576b\"],[0.6666666666666666,\"#ed7953\"],[0.7777777777777778,\"#fb9f3a\"],[0.8888888888888888,\"#fdca26\"],[1.0,\"#f0f921\"]],\"type\":\"histogram2dcontour\"}],\"mesh3d\":[{\"colorbar\":{\"outlinewidth\":0,\"ticks\":\"\"},\"type\":\"mesh3d\"}],\"parcoords\":[{\"line\":{\"colorbar\":{\"outlinewidth\":0,\"ticks\":\"\"}},\"type\":\"parcoords\"}],\"pie\":[{\"automargin\":true,\"type\":\"pie\"}],\"scatter\":[{\"marker\":{\"colorbar\":{\"outlinewidth\":0,\"ticks\":\"\"}},\"type\":\"scatter\"}],\"scatter3d\":[{\"line\":{\"colorbar\":{\"outlinewidth\":0,\"ticks\":\"\"}},\"marker\":{\"colorbar\":{\"outlinewidth\":0,\"ticks\":\"\"}},\"type\":\"scatter3d\"}],\"scattercarpet\":[{\"marker\":{\"colorbar\":{\"outlinewidth\":0,\"ticks\":\"\"}},\"type\":\"scattercarpet\"}],\"scattergeo\":[{\"marker\":{\"colorbar\":{\"outlinewidth\":0,\"ticks\":\"\"}},\"type\":\"scattergeo\"}],\"scattergl\":[{\"marker\":{\"colorbar\":{\"outlinewidth\":0,\"ticks\":\"\"}},\"type\":\"scattergl\"}],\"scattermapbox\":[{\"marker\":{\"colorbar\":{\"outlinewidth\":0,\"ticks\":\"\"}},\"type\":\"scattermapbox\"}],\"scatterpolar\":[{\"marker\":{\"colorbar\":{\"outlinewidth\":0,\"ticks\":\"\"}},\"type\":\"scatterpolar\"}],\"scatterpolargl\":[{\"marker\":{\"colorbar\":{\"outlinewidth\":0,\"ticks\":\"\"}},\"type\":\"scatterpolargl\"}],\"scatterternary\":[{\"marker\":{\"colorbar\":{\"outlinewidth\":0,\"ticks\":\"\"}},\"type\":\"scatterternary\"}],\"surface\":[{\"colorbar\":{\"outlinewidth\":0,\"ticks\":\"\"},\"colorscale\":[[0.0,\"#0d0887\"],[0.1111111111111111,\"#46039f\"],[0.2222222222222222,\"#7201a8\"],[0.3333333333333333,\"#9c179e\"],[0.4444444444444444,\"#bd3786\"],[0.5555555555555556,\"#d8576b\"],[0.6666666666666666,\"#ed7953\"],[0.7777777777777778,\"#fb9f3a\"],[0.8888888888888888,\"#fdca26\"],[1.0,\"#f0f921\"]],\"type\":\"surface\"}],\"table\":[{\"cells\":{\"fill\":{\"color\":\"#EBF0F8\"},\"line\":{\"color\":\"white\"}},\"header\":{\"fill\":{\"color\":\"#C8D4E3\"},\"line\":{\"color\":\"white\"}},\"type\":\"table\"}]},\"layout\":{\"annotationdefaults\":{\"arrowcolor\":\"#2a3f5f\",\"arrowhead\":0,\"arrowwidth\":1},\"autotypenumbers\":\"strict\",\"coloraxis\":{\"colorbar\":{\"outlinewidth\":0,\"ticks\":\"\"}},\"colorscale\":{\"diverging\":[[0,\"#8e0152\"],[0.1,\"#c51b7d\"],[0.2,\"#de77ae\"],[0.3,\"#f1b6da\"],[0.4,\"#fde0ef\"],[0.5,\"#f7f7f7\"],[0.6,\"#e6f5d0\"],[0.7,\"#b8e186\"],[0.8,\"#7fbc41\"],[0.9,\"#4d9221\"],[1,\"#276419\"]],\"sequential\":[[0.0,\"#0d0887\"],[0.1111111111111111,\"#46039f\"],[0.2222222222222222,\"#7201a8\"],[0.3333333333333333,\"#9c179e\"],[0.4444444444444444,\"#bd3786\"],[0.5555555555555556,\"#d8576b\"],[0.6666666666666666,\"#ed7953\"],[0.7777777777777778,\"#fb9f3a\"],[0.8888888888888888,\"#fdca26\"],[1.0,\"#f0f921\"]],\"sequentialminus\":[[0.0,\"#0d0887\"],[0.1111111111111111,\"#46039f\"],[0.2222222222222222,\"#7201a8\"],[0.3333333333333333,\"#9c179e\"],[0.4444444444444444,\"#bd3786\"],[0.5555555555555556,\"#d8576b\"],[0.6666666666666666,\"#ed7953\"],[0.7777777777777778,\"#fb9f3a\"],[0.8888888888888888,\"#fdca26\"],[1.0,\"#f0f921\"]]},\"colorway\":[\"#636efa\",\"#EF553B\",\"#00cc96\",\"#ab63fa\",\"#FFA15A\",\"#19d3f3\",\"#FF6692\",\"#B6E880\",\"#FF97FF\",\"#FECB52\"],\"font\":{\"color\":\"#2a3f5f\"},\"geo\":{\"bgcolor\":\"white\",\"lakecolor\":\"white\",\"landcolor\":\"#E5ECF6\",\"showlakes\":true,\"showland\":true,\"subunitcolor\":\"white\"},\"hoverlabel\":{\"align\":\"left\"},\"hovermode\":\"closest\",\"mapbox\":{\"style\":\"light\"},\"paper_bgcolor\":\"white\",\"plot_bgcolor\":\"#E5ECF6\",\"polar\":{\"angularaxis\":{\"gridcolor\":\"white\",\"linecolor\":\"white\",\"ticks\":\"\"},\"bgcolor\":\"#E5ECF6\",\"radialaxis\":{\"gridcolor\":\"white\",\"linecolor\":\"white\",\"ticks\":\"\"}},\"scene\":{\"xaxis\":{\"backgroundcolor\":\"#E5ECF6\",\"gridcolor\":\"white\",\"gridwidth\":2,\"linecolor\":\"white\",\"showbackground\":true,\"ticks\":\"\",\"zerolinecolor\":\"white\"},\"yaxis\":{\"backgroundcolor\":\"#E5ECF6\",\"gridcolor\":\"white\",\"gridwidth\":2,\"linecolor\":\"white\",\"showbackground\":true,\"ticks\":\"\",\"zerolinecolor\":\"white\"},\"zaxis\":{\"backgroundcolor\":\"#E5ECF6\",\"gridcolor\":\"white\",\"gridwidth\":2,\"linecolor\":\"white\",\"showbackground\":true,\"ticks\":\"\",\"zerolinecolor\":\"white\"}},\"shapedefaults\":{\"line\":{\"color\":\"#2a3f5f\"}},\"ternary\":{\"aaxis\":{\"gridcolor\":\"white\",\"linecolor\":\"white\",\"ticks\":\"\"},\"baxis\":{\"gridcolor\":\"white\",\"linecolor\":\"white\",\"ticks\":\"\"},\"bgcolor\":\"#E5ECF6\",\"caxis\":{\"gridcolor\":\"white\",\"linecolor\":\"white\",\"ticks\":\"\"}},\"title\":{\"x\":0.05},\"xaxis\":{\"automargin\":true,\"gridcolor\":\"white\",\"linecolor\":\"white\",\"ticks\":\"\",\"title\":{\"standoff\":15},\"zerolinecolor\":\"white\",\"zerolinewidth\":2},\"yaxis\":{\"automargin\":true,\"gridcolor\":\"white\",\"linecolor\":\"white\",\"ticks\":\"\",\"title\":{\"standoff\":15},\"zerolinecolor\":\"white\",\"zerolinewidth\":2}}},\"xaxis\":{\"anchor\":\"y\",\"domain\":[0.0,1.0],\"title\":{\"text\":\"date\"}},\"yaxis\":{\"anchor\":\"x\",\"domain\":[0.0,1.0],\"title\":{\"text\":\"value\"}},\"legend\":{\"title\":{\"text\":\"variable\"},\"tracegroupgap\":0},\"margin\":{\"t\":60}},                        {\"responsive\": true}                    ).then(function(){\n",
       "                            \n",
       "var gd = document.getElementById('ff2a718f-d960-4a28-80e9-6648567a2422');\n",
       "var x = new MutationObserver(function (mutations, observer) {{\n",
       "        var display = window.getComputedStyle(gd).display;\n",
       "        if (!display || display === 'none') {{\n",
       "            console.log([gd, 'removed!']);\n",
       "            Plotly.purge(gd);\n",
       "            observer.disconnect();\n",
       "        }}\n",
       "}});\n",
       "\n",
       "// Listen for the removal of the full notebook cells\n",
       "var notebookContainer = gd.closest('#notebook-container');\n",
       "if (notebookContainer) {{\n",
       "    x.observe(notebookContainer, {childList: true});\n",
       "}}\n",
       "\n",
       "// Listen for the clearing of the current output cell\n",
       "var outputEl = gd.closest('.output');\n",
       "if (outputEl) {{\n",
       "    x.observe(outputEl, {childList: true});\n",
       "}}\n",
       "\n",
       "                        })                };                });            </script>        </div>"
      ]
     },
     "metadata": {},
     "output_type": "display_data"
    }
   ],
   "source": [
    "# Visualising our data\n",
    "\n",
    "fig = px.line(BS_analysis, x='date', y=['Current Ratio', 'Quick Ratio', 'Debt to Equity Ratio', 'Debts to Assets Ratio', 'Return on Assets'])\n",
    "fig.show()"
   ]
  },
  {
   "cell_type": "code",
   "execution_count": 212,
   "id": "d9ca9bcc",
   "metadata": {},
   "outputs": [
    {
     "data": {
      "text/plain": [
       "<Figure size 720x432 with 0 Axes>"
      ]
     },
     "metadata": {},
     "output_type": "display_data"
    },
    {
     "data": {
      "image/png": "[encoded data removed]",
      "text/plain": [
       "<Figure size 432x288 with 1 Axes>"
      ]
     },
     "metadata": {
      "needs_background": "light"
     },
     "output_type": "display_data"
    }
   ],
   "source": [
    "# Visualizing the data\n",
    "\n",
    "BS_viz= BS_analysis.groupby('date')['Current Ratio', 'Quick Ratio', 'Debt to Equity Ratio', 'Debts to Assets Ratio', 'Return on Assets'].sum()\n",
    "\n",
    "#Setting the size of the graph\n",
    "plt.figure(figsize=(10,6))\n",
    "\n",
    "#Plotting a line chart\n",
    "BS_viz.plot()\n",
    "\n",
    "#Placing the legend outside the chart\n",
    "plt.legend(bbox_to_anchor=(1.05, 1.0), loc='upper left')\n",
    "\n",
    "#Setting the size of the graph\n",
    "\n",
    "\n",
    "# Including Grid lines\n",
    "plt.grid(linestyle='--', linewidth=0.5)\n",
    "\n",
    "plt.show()"
   ]
  }
 ],
 "metadata": {
  "kernelspec": {
   "display_name": "Python 3 (ipykernel)",
   "language": "python",
   "name": "python3"
  },
  "language_info": {
   "codemirror_mode": {
    "name": "ipython",
    "version": 3
   },
   "file_extension": ".py",
   "mimetype": "text/x-python",
   "name": "python",
   "nbconvert_exporter": "python",
   "pygments_lexer": "ipython3",
   "version": "3.9.12"
  }
 },
 "nbformat": 4,
 "nbformat_minor": 5
}
